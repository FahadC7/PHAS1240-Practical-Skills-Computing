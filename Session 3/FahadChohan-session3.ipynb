{
 "cells": [
  {
   "cell_type": "markdown",
   "metadata": {},
   "source": [
    "#Part 1"
   ]
  },
  {
   "cell_type": "code",
   "execution_count": 27,
   "metadata": {
    "collapsed": true
   },
   "outputs": [],
   "source": [
    "import numpy as np"
   ]
  },
  {
   "cell_type": "code",
   "execution_count": 28,
   "metadata": {
    "collapsed": false
   },
   "outputs": [
    {
     "name": "stdout",
     "output_type": "stream",
     "text": [
      "x =  [  0.   5.  10.]\n"
     ]
    }
   ],
   "source": [
    "x = np.linspace(0,10,3)\n",
    "print \"x = \", x"
   ]
  },
  {
   "cell_type": "markdown",
   "metadata": {
    "collapsed": true
   },
   "source": [
    "This is in the form (a,b,c) and it this function makes a list starting from 0 (a), ending at 10 (b) and with 3 steps (c)."
   ]
  },
  {
   "cell_type": "code",
   "execution_count": 29,
   "metadata": {
    "collapsed": false
   },
   "outputs": [
    {
     "name": "stdout",
     "output_type": "stream",
     "text": [
      "y =  [ 2.5  3.   3.5]\n"
     ]
    }
   ],
   "source": [
    "y = np.linspace(2.5,3.5,3.0)\n",
    "print \"y = \", y"
   ]
  },
  {
   "cell_type": "markdown",
   "metadata": {},
   "source": [
    "This uses the same technique as above but is a list from 2.5 to 3.5 with a list size of 3."
   ]
  },
  {
   "cell_type": "code",
   "execution_count": 30,
   "metadata": {
    "collapsed": false
   },
   "outputs": [
    {
     "name": "stdout",
     "output_type": "stream",
     "text": [
      "x * y =  [  0.  15.  35.]\n"
     ]
    }
   ],
   "source": [
    "x * y \n",
    "print \"x * y = \", x*y"
   ]
  },
  {
   "cell_type": "markdown",
   "metadata": {},
   "source": [
    "Multiplication of corresponding numbers in lists x and y."
   ]
  },
  {
   "cell_type": "code",
   "execution_count": 31,
   "metadata": {
    "collapsed": false
   },
   "outputs": [
    {
     "name": "stdout",
     "output_type": "stream",
     "text": [
      "a dot b =  50.0\n",
      "a cross b =  [-12.5  25.  -12.5]\n"
     ]
    }
   ],
   "source": [
    "a = np.dot(x,y) \n",
    "b = np.cross(x,y) \n",
    "print \"a dot b = \", a\n",
    "print \"a cross b = \", b"
   ]
  },
  {
   "cell_type": "markdown",
   "metadata": {},
   "source": [
    "Vector dot and cross product of x and y.\n",
    "The difference in this and the star-key function is that this treats the list as a vector and multiplies them, the star-key function multiplies the corresponding numbers in each list together."
   ]
  },
  {
   "cell_type": "code",
   "execution_count": 32,
   "metadata": {
    "collapsed": false
   },
   "outputs": [
    {
     "name": "stdout",
     "output_type": "stream",
     "text": [
      "[ 1.  2.  3.  4.  5.]\n",
      "n is  1.0\n",
      "n*3 is  3.0\n",
      "n is  2.0\n",
      "n*3 is  6.0\n",
      "n is  3.0\n",
      "n*3 is  9.0\n",
      "n is  4.0\n",
      "n*3 is  12.0\n",
      "n is  5.0\n",
      "n*3 is  15.0\n",
      "Finished\n"
     ]
    }
   ],
   "source": [
    "r = np.linspace(1, 5, 5)\n",
    "print r\n",
    "for n in r:\n",
    "    print \"n is \", n\n",
    "    print \"n*3 is \", n*3\n",
    "print \"Finished\""
   ]
  },
  {
   "cell_type": "markdown",
   "metadata": {},
   "source": [
    "This makes a list from 1 to 5 with 5 steps and the for loop multiplies each number in the list by 3 and outputs it."
   ]
  },
  {
   "cell_type": "markdown",
   "metadata": {},
   "source": [
    "#Part 2"
   ]
  },
  {
   "cell_type": "code",
   "execution_count": 33,
   "metadata": {
    "collapsed": false
   },
   "outputs": [
    {
     "name": "stdout",
     "output_type": "stream",
     "text": [
      "[ 18.02  18.55  18.94  18.99  19.5   19.71  19.61  19.4   19.41  19.26\n",
      "  18.88  18.71  18.42  17.84  17.01  16.86  16.27  15.58  15.25  15.04\n",
      "  25.68  24.62  23.4   21.96  20.65]\n"
     ]
    }
   ],
   "source": [
    "p = np.loadtxt(\"session3data.txt\")\n",
    "print p"
   ]
  },
  {
   "cell_type": "markdown",
   "metadata": {},
   "source": [
    "This is a list of elements imported and named \"p\"."
   ]
  },
  {
   "cell_type": "code",
   "execution_count": 34,
   "metadata": {
    "collapsed": false
   },
   "outputs": [
    {
     "name": "stdout",
     "output_type": "stream",
     "text": [
      "sin(p) =  [-0.7376316  -0.29509593  0.09032082  0.13998283  0.60553987  0.75813222\n",
      "  0.68924326  0.52306577  0.53156239  0.39901656  0.03043938 -0.13910337\n",
      " -0.41646711 -0.84659557 -0.96410101 -0.91359403 -0.53291073  0.12761433\n",
      "  0.44212217  0.61938827  0.5203483  -0.4905678  -0.98691556  0.03114354\n",
      "  0.97374664]\n"
     ]
    }
   ],
   "source": [
    "sinp = np.sin(p)\n",
    "print \"sin(p) = \", sinp"
   ]
  },
  {
   "cell_type": "markdown",
   "metadata": {},
   "source": [
    "This finds the sine of each element in the list."
   ]
  },
  {
   "cell_type": "code",
   "execution_count": 35,
   "metadata": {
    "collapsed": false
   },
   "outputs": [
    {
     "name": "stdout",
     "output_type": "stream",
     "text": [
      "size(p) =  25\n"
     ]
    }
   ],
   "source": [
    "sizep = np.size(p)\n",
    "print \"size(p) = \", sizep"
   ]
  },
  {
   "cell_type": "markdown",
   "metadata": {},
   "source": [
    "This finds the number of elements in the list."
   ]
  },
  {
   "cell_type": "code",
   "execution_count": 36,
   "metadata": {
    "collapsed": false
   },
   "outputs": [
    {
     "name": "stdout",
     "output_type": "stream",
     "text": [
      "length of p =  25\n"
     ]
    }
   ],
   "source": [
    "lengthp = len(p)\n",
    "print \"length of p = \", lengthp"
   ]
  },
  {
   "cell_type": "markdown",
   "metadata": {},
   "source": [
    "This also finds the number of elements in the list but without using NumPy."
   ]
  },
  {
   "cell_type": "code",
   "execution_count": 37,
   "metadata": {
    "collapsed": false
   },
   "outputs": [
    {
     "name": "stdout",
     "output_type": "stream",
     "text": [
      "maximum value of p =  25.68\n"
     ]
    }
   ],
   "source": [
    "maxp = np.max(p)\n",
    "print \"maximum value of p = \", maxp"
   ]
  },
  {
   "cell_type": "markdown",
   "metadata": {},
   "source": [
    "This finds the element with the highest value in the list."
   ]
  },
  {
   "cell_type": "code",
   "execution_count": 38,
   "metadata": {
    "collapsed": false
   },
   "outputs": [
    {
     "name": "stdout",
     "output_type": "stream",
     "text": [
      "minimum value of p =  15.04\n"
     ]
    }
   ],
   "source": [
    "minp = np.min(p)\n",
    "print \"minimum value of p = \", minp"
   ]
  },
  {
   "cell_type": "markdown",
   "metadata": {},
   "source": [
    "This finds the element with the lowest value in the list."
   ]
  },
  {
   "cell_type": "code",
   "execution_count": 39,
   "metadata": {
    "collapsed": false
   },
   "outputs": [
    {
     "name": "stdout",
     "output_type": "stream",
     "text": [
      "sum of p =  477.56\n"
     ]
    }
   ],
   "source": [
    "sump = np.sum(p)\n",
    "print \"sum of p = \", sump"
   ]
  },
  {
   "cell_type": "markdown",
   "metadata": {},
   "source": [
    "This sums all of the elements in the list."
   ]
  },
  {
   "cell_type": "code",
   "execution_count": 40,
   "metadata": {
    "collapsed": false
   },
   "outputs": [
    {
     "name": "stdout",
     "output_type": "stream",
     "text": [
      "mean of p =  19.1024\n"
     ]
    }
   ],
   "source": [
    "meanp = np.mean(p)\n",
    "print \"mean of p = \", meanp"
   ]
  },
  {
   "cell_type": "markdown",
   "metadata": {},
   "source": [
    "This finds the mean average of all of the elements in the list."
   ]
  },
  {
   "cell_type": "code",
   "execution_count": 41,
   "metadata": {
    "collapsed": false
   },
   "outputs": [
    {
     "name": "stdout",
     "output_type": "stream",
     "text": [
      "mean of p =  19.1024\n"
     ]
    }
   ],
   "source": [
    "meanp2 = sump / lengthp\n",
    "print \"mean of p = \", meanp2"
   ]
  },
  {
   "cell_type": "markdown",
   "metadata": {},
   "source": [
    "This also finds the mean average of all of the elements in the list."
   ]
  },
  {
   "cell_type": "code",
   "execution_count": 42,
   "metadata": {
    "collapsed": false
   },
   "outputs": [
    {
     "name": "stdout",
     "output_type": "stream",
     "text": [
      "sum of first 10 elements in p =  210.27\n"
     ]
    }
   ],
   "source": [
    "q = p[:11]\n",
    "sumq = np.sum(q)\n",
    "print \"sum of first 10 elements in p = \", sumq"
   ]
  },
  {
   "cell_type": "markdown",
   "metadata": {},
   "source": [
    "This finds the sum of the first 10 elements in the list."
   ]
  },
  {
   "cell_type": "code",
   "execution_count": 43,
   "metadata": {
    "collapsed": false
   },
   "outputs": [
    {
     "name": "stdout",
     "output_type": "stream",
     "text": [
      "mean of the last 5 elements in p =  23.262\n"
     ]
    }
   ],
   "source": [
    "s = p[-5:]\n",
    "means = np.mean(s)\n",
    "print \"mean of the last 5 elements in p = \", means"
   ]
  },
  {
   "cell_type": "markdown",
   "metadata": {},
   "source": [
    "This finds the mean average of the last 5 elements in the list."
   ]
  },
  {
   "cell_type": "code",
   "execution_count": null,
   "metadata": {
    "collapsed": true
   },
   "outputs": [],
   "source": []
  }
 ],
 "metadata": {
  "kernelspec": {
   "display_name": "Python 2",
   "language": "python",
   "name": "python2"
  },
  "language_info": {
   "codemirror_mode": {
    "name": "ipython",
    "version": 2
   },
   "file_extension": ".py",
   "mimetype": "text/x-python",
   "name": "python",
   "nbconvert_exporter": "python",
   "pygments_lexer": "ipython2",
   "version": "2.7.10"
  }
 },
 "nbformat": 4,
 "nbformat_minor": 0
}
