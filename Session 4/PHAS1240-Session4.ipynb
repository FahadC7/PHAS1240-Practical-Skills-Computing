{
 "cells": [
  {
   "cell_type": "markdown",
   "metadata": {},
   "source": [
    "# Plotting with Matplotlib"
   ]
  },
  {
   "cell_type": "markdown",
   "metadata": {},
   "source": [
    "Author: Louise Dash (louise.dash@ucl.ac.uk)\n",
    "Last updated: 22.10.2015"
   ]
  },
  {
   "cell_type": "markdown",
   "metadata": {},
   "source": [
    "## Learning objectives"
   ]
  },
  {
   "cell_type": "markdown",
   "metadata": {},
   "source": [
    "By the end of this session, you should\n",
    "\n",
    "* be able to produce a simple plot using the matplotlib module\n",
    "* know how to produce a plot in a suitable format for your lab book and formal report"
   ]
  },
  {
   "cell_type": "markdown",
   "metadata": {},
   "source": [
    "## Introduction"
   ]
  },
  {
   "cell_type": "markdown",
   "metadata": {},
   "source": [
    "Using matplotlib is a great way to interact with and present your data. In this session we'll go through how to plot functions and data files, and how to best present the data. In following sessions we'll look at how to analyse data graphically using least squares fits, and how to interact with data.\n",
    "\n",
    "#### Why not just plot the data with Excel?\n",
    "\n",
    "Once you get used to it, you'll find that Matplotlib is just as easy to use (if not easier) than Excel graphs, especially when you need to include error bars and/or mathematical notation. Moreover, the default plot produced by Matplotlib nearly always looks better than the default Excel plot!"
   ]
  },
  {
   "cell_type": "markdown",
   "metadata": {},
   "source": [
    "The first thing we need to do is to import the matplotlib pyplot module. We'll also need to import numpy, just as before. Remember, to run each cell you need to press `SHIFT+ENTER`."
   ]
  },
  {
   "cell_type": "code",
   "execution_count": null,
   "metadata": {
    "collapsed": false
   },
   "outputs": [],
   "source": [
    "import numpy as np\n",
    "import matplotlib.pyplot as plt\n",
    "# The next line tells Ipythonnotebook to put the plots in a notebook, instead of  a separate window\n",
    "# You only need it if you're using matplotlib with an Ipython notebook.\n",
    "%matplotlib inline "
   ]
  },
  {
   "cell_type": "markdown",
   "metadata": {},
   "source": [
    "We also need some data to plot. Even if we're plotting a function, we need to calculate that function at a discrete set of points. We'll use one of the numpy array functions we met last week, linspace, to generate numbers for the x-values, and then calculate the corresponding y-values for a simple function - in this case $\\sin(x)$."
   ]
  },
  {
   "cell_type": "code",
   "execution_count": null,
   "metadata": {
    "collapsed": false
   },
   "outputs": [],
   "source": [
    "x = np.linspace(0,2*np.pi,100) # 100 points between 0 and 2pi\n",
    "y = np.sin(x)"
   ]
  },
  {
   "cell_type": "markdown",
   "metadata": {},
   "source": [
    "Obviously our plot also needs axis labels and a title. Note how we enclose text strings inside quotation marks here."
   ]
  },
  {
   "cell_type": "code",
   "execution_count": null,
   "metadata": {
    "collapsed": false
   },
   "outputs": [],
   "source": [
    "# now for the plot itself\n",
    "plt.plot(x,y) # plot the array \"x\" on the x axis and \"y\" on the y-axis\n",
    "plt.xlabel('x')\n",
    "plt.ylabel('sin(x)')\n",
    "plt.title('A plot of sin(x)')\n",
    "\n",
    "# IMPORTANT: If you're working with stand-alone code rather than a notebook,\n",
    "# you'll also need this next line to tell matplotlib to actually show the plot on the \n",
    "# screen. If you're using an Ipython notebook, you don't need it.\n",
    "\n",
    "# plt.show() # uncomment this line if you're not using an Ipython notebook"
   ]
  },
  {
   "cell_type": "markdown",
   "metadata": {},
   "source": [
    "Remember, this looks like a continuous function, but in reality it's a series of straight line segments between discrete points. Try changing the number of points from 100 to 10 to see the difference!\n",
    "\n",
    "## Plotting two (or more) lines together\n",
    "\n",
    "Sometimes we may want to plot two lines together on the same graph. To do this, we just add a new plot command for the new line. When you have more than one line, you'll generally need a legend as well. Look at this code to see how to do this:"
   ]
  },
  {
   "cell_type": "code",
   "execution_count": null,
   "metadata": {
    "collapsed": false
   },
   "outputs": [],
   "source": [
    "x = np.linspace(0,10,100) # set up array of 100 x-values from 0-10\n",
    "y1 = np.sin(x)\n",
    "y2 = np.cos(x)\n",
    "\n",
    "plt.plot(x,y1, label=\"sin(x)\") # plot the first line and set the label\n",
    "plt.plot(x,y2, label=\"cos(x)\") # plot the second  line\n",
    "plt.xlabel('x (radians)') # put a label on the x axis, including units\n",
    "plt.ylabel('f(x)') # put a label on the y axis\n",
    "plt.title('A sample plot with two lines and a legend') # a title for the plot\n",
    "plt.legend(loc=\"best\")  # this will try and guess the best location for the legend\n",
    "# or try \"lower left, center right, etc~\n",
    "#plt.legend(loc=\"upper right\")\n"
   ]
  },
  {
   "cell_type": "markdown",
   "metadata": {},
   "source": [
    "# Loading a dataset from a file"
   ]
  },
  {
   "cell_type": "markdown",
   "metadata": {},
   "source": [
    "Usually we'll want to plot some data we already have, e.g. from a lab experiment. We'll need a way to get this data into a plottable format, i.e. arrays like the ones we created for x and y above. There are a few ways to do this.\n",
    "\n",
    "* Entering the data by hand straight into Python, using the np.array() function. This is generally inefficient and you won't want to do this.\n",
    "\n",
    "* Entering the data into another source and then loading it into Python:\n",
    "    - You can use Excel, and then save the Excel file as a .csv (Comma Separated Values) file, which is a plain text format. This is a good choice if you want to do some data manipulation before analysing it.\n",
    "    - You can use a text editor like Notepad to enter the data, and save it as a .txt file. Useful if you only have a few data points and don't want to fire up the full force of Excel."
   ]
  },
  {
   "cell_type": "markdown",
   "metadata": {},
   "source": [
    "For this example, I created a text file called \"sampledata.txt\" in Notepad with three columns of data, separated by tabs, which represent the x-values (in this case voltage), the y-values (in this case current) , and the error in the y-values.\n",
    "\n",
    "Make sure you've downloaded this file from Moodle, and put it in the same directory as this notebook. Open the file in Notepad so you can compare the data in the file with the data imported in the code cell below."
   ]
  },
  {
   "cell_type": "markdown",
   "metadata": {},
   "source": [
    "To get this data into Python, the easiest way is to use the `np.loadtxt()` function , which we already met last week. This time though, we have *three* columns of data, so now we need to \"unpack\" the data into three separate arrays, like this:"
   ]
  },
  {
   "cell_type": "code",
   "execution_count": null,
   "metadata": {
    "collapsed": false
   },
   "outputs": [],
   "source": [
    "#unpack=True unpacks each column into a separate array.\n",
    "xdata, ydata, yerror = np.loadtxt(\"sampledata.txt\", unpack=True) \n",
    "print \"our xdata: \", xdata\n",
    "print \"our ydata: \", ydata\n",
    "print \"errors on the y-values: \", yerror"
   ]
  },
  {
   "cell_type": "markdown",
   "metadata": {},
   "source": [
    "The full documentation for `np.loadtxt()` is here: http://docs.scipy.org/doc/numpy/reference/generated/numpy.loadtxt.html Read it to find out how to ignore rows with header information, change the delimiter from tab to comma, or pick which columns you want to load. By default, lines starting with the comment `#` character are ignored, so it's useful to use this for column headers."
   ]
  },
  {
   "cell_type": "markdown",
   "metadata": {},
   "source": [
    "## Specifying the plot style"
   ]
  },
  {
   "cell_type": "markdown",
   "metadata": {},
   "source": [
    "When we're plotting data, we usually want to plot it as points rather than as a line. By default, matplotlib will plot a line, but it's easy to plot points instead. You can specify both the colour and style of the datapoints using a short abbreviation - in this example red (r) points (.) - note that this is enclosed in quotation marks:"
   ]
  },
  {
   "cell_type": "code",
   "execution_count": null,
   "metadata": {
    "collapsed": false
   },
   "outputs": [],
   "source": [
    "plt.plot(xdata,ydata, 'r.' ) # 'r.' specifies small red points"
   ]
  },
  {
   "cell_type": "markdown",
   "metadata": {},
   "source": [
    "These abbreviations are reasonably intuitive, so they're fairly easy to remember:\n",
    "\n",
    "* Colours:\n",
    "    - b: blue\n",
    "    - g: green\n",
    "    - r: red\n",
    "    - c: cyan\n",
    "    - m: magenta\n",
    "    - y: yellow\n",
    "    - k: black\n",
    "    - w: white\n",
    "* Alternatively, you can specify an exact colour using an RGB hex code, eg \" color = '#eeefff' \" or a standard html name, eg: \" color = 'red' \". If you do this, note the AmEng spelling of \"color\"!\n",
    "        \n",
    "* Marker style - there are lots of these, you may want to try\n",
    "    - '-'\tsolid line style\n",
    "    - '--'\tdashed line style\n",
    "    - '-.'\tdash-dot line style\n",
    "    - ':'\t(a colon) dotted line style\n",
    "    - '.'\tpoint\n",
    "    - 'o'\tcircle\n",
    "    - 'v'\ttriangle_down\n",
    "    - '*'\tstar\n",
    "    - '+'\tplus\n",
    "    - 'x'\tx\n",
    "* There's a full list of the possibilities here: http://matplotlib.org/api/pyplot_api.html#matplotlib.pyplot.plot\n"
   ]
  },
  {
   "cell_type": "markdown",
   "metadata": {},
   "source": [
    "## How to plot error bars"
   ]
  },
  {
   "cell_type": "markdown",
   "metadata": {},
   "source": [
    "We didn't include any error bars in the plot above. In fact, to include errorbars we need to use the errorbar() command *instead of* the plot() command (this is not necessarily intuitive, as you might think you'd use the errorbar() *and* plot() commands). \n",
    "\n",
    "Note how we do this:\n",
    "* We specify the xdata and ydata as before\n",
    "* The y-errorbars are specified with the yerr keyword (hopefully you can thus use logic to deduce what to do if you want x-errorbars)\n",
    "* We have a fmt statement to specify the point style (here blue circles). If you leave this out, the default is to draw a straight line between the datapoints, and in general you *don't* want this."
   ]
  },
  {
   "cell_type": "code",
   "execution_count": null,
   "metadata": {
    "collapsed": false
   },
   "outputs": [],
   "source": [
    "plt.errorbar(xdata,ydata,yerr=yerror,fmt='bo')"
   ]
  },
  {
   "cell_type": "markdown",
   "metadata": {},
   "source": [
    "To see how we can combine these, we'll:\n",
    "* Add a straight line x=y through the datapoints (we'll come on to how to *fit* a line through the data next session)\n",
    "* Specify the range for the x and y axes\n",
    "* Add all the other things our plot needs: labels, titles, legends, gridlines, etc\n",
    "* Note that (in general), the order of the plt.* commands doesn't matter - but they are executed in sequence, so it's aesthetically better to have the grid command before the data, so that it gets plotted underneath, etc., as in the example below."
   ]
  },
  {
   "cell_type": "code",
   "execution_count": null,
   "metadata": {
    "collapsed": false
   },
   "outputs": [],
   "source": [
    "# first generate data for the straight line y = x\n",
    "# we'll create two separate arrays for this\n",
    "xline = np.linspace(0,100,5)\n",
    "yline = xline\n",
    "\n",
    "# Now for the plot commands. \n",
    "plt.grid(True) # Add gridlines\n",
    "plt.plot(xline,yline, 'k-') # 'k-' specifies a black line\n",
    "plt.errorbar(xdata,ydata,yerr=yerror,fmt='bo') # plot the data with errorbars and blue circles\n",
    "plt.xlim(0,100) # set xrange to be from 0 to 100\n",
    "plt.ylim(0,100)# set the y range to be from 0 to 100\n",
    "plt.title('Current vs Voltage from Experiment P01') # a suitable concise title\n",
    "\n",
    "# outputting to a file - see the section below\n",
    "#plt.savefig('Myplot.png') # saves to a PNG file\n",
    "#plt.savefig('Myplot.png', dpi=300) # saves to a PNG file with a higher resolution\n",
    "#plt.savefig('Myplot.pdf') # saves to a PDF file"
   ]
  },
  {
   "cell_type": "markdown",
   "metadata": {},
   "source": [
    "## Outputting your plot to a file"
   ]
  },
  {
   "cell_type": "markdown",
   "metadata": {},
   "source": [
    "To save your plot to a file for printing or including in another document (eg. Word), use the savefig() command. The full documentation for this is here: http://matplotlib.org/api/pyplot_api.html#matplotlib.pyplot.savefig\n",
    "\n",
    "Note that you need to put the savefig command in the same cell as the other plot commands if you're using a IPython Notebook. Some sample commands are in the cell above, commented out - try uncommenting each of them in turn to see the results. The files will be saved in the same directory as your IPython Notebook.\n",
    "\n",
    "You can save in a number of formats, but generally you'll want to save as either a .png or .pdf file. The file type can be autodetermined from the filename extension, as in these examples. You'll probably also find that all the default settings work OK, but if you want to change the resolution of a png (for better quality), try changing the dpi (dots per inch) setting, as above.\n",
    "\n"
   ]
  },
  {
   "cell_type": "markdown",
   "metadata": {},
   "source": [
    "# Preparing plots for your lab book or formal report"
   ]
  },
  {
   "cell_type": "markdown",
   "metadata": {},
   "source": [
    "When you're using this in lab classes, remember there are specific rules and guidelines for how your plots should look, depending on whether you're preparing your plot to stick into your lab book or for part of a formal report. Here are some basic checklists to help you make sure you haven't forgotten anything:"
   ]
  },
  {
   "cell_type": "markdown",
   "metadata": {},
   "source": [
    "## Lab book checklist"
   ]
  },
  {
   "cell_type": "markdown",
   "metadata": {},
   "source": [
    "Make sure:\n",
    "\n",
    "* The axes are labelled, complete with units\n",
    "* You have gridlines to make the data easier to decipher\n",
    "* If appropriate, you have included error bars. If you don't include error bars because they'd be smaller than the data symbols, say so in the caption.\n",
    "* If you have more than one dataset on the same plot, include a legend, and make sure the legend is positioned so that it doesn't cover up important data!\n",
    "* All components should be an appropriate size for printed output (generally with Matplotlib the default settings are good, but check this in case!)\n",
    "* You've chosen appropriate line and point styles for a printout - if you are printing the plot on a black and white printer, don't rely on different colours to distinguish between datasets!\n",
    "* You will need a (handwritten) caption in your lab book. However it's good practice to include a title on your plot as well so that when you look at the *electronic* version of the plot you know what it refers to! If you want to, you can crop this off the final printout with scissors before sticking it into your lab book.\n"
   ]
  },
  {
   "cell_type": "markdown",
   "metadata": {},
   "source": [
    "## Formal report checklist"
   ]
  },
  {
   "cell_type": "markdown",
   "metadata": {},
   "source": [
    "* Axes are labelled, complete with units\n",
    "* Grid is present\n",
    "* If appropriate, you have included error bars. If you don't include error bars because they'd be smaller than the data symbols, say so in the caption.\n",
    "* If you have more than one dataset on the same plot, include a legend, and make sure the legend is positioned so that it doesn't cover up important data!\n",
    "* All components are an appropriate size for the two-column formal report layout - you may need to change the font sizes.\n",
    "* Appropriate line and point styles so that the data is clearly legible when it's printed at the size it appears on the formal report.\n",
    "* Don't include a title for a formal report - instead use a figure caption within the document. "
   ]
  },
  {
   "cell_type": "markdown",
   "metadata": {},
   "source": [
    "# Assessed task for this session"
   ]
  },
  {
   "cell_type": "markdown",
   "metadata": {},
   "source": [
    "\n",
    "\n",
    "This is an exercise in plotting data from a laboratory experiment.\n",
    "\n",
    "The data is from an x-ray diffraction experiment similar to one that many of you will do next year in PHAS2400 (Experiment A10). You do not need to know anything about x-ray diffraction to plot this data, but if you are interested you can read about the theory here: http://en.wikipedia.org/wiki/Bragg%27s_law\n",
    "\n",
    "What you need to do:\n",
    "\n",
    "* Download the two data files from the Moodle page for this session. These were generated in Microsoft Excel and saved in .csv (comma separated values) format. In both files, the first column (x-data) is twice the diffraction angle (2 theta) and the second column (y-data) is the number of counts recorded per second.\n",
    "* Create a new IPython Notebook. Remember to start with a suitable title, and use text cells to explain what you're doing as you go along. You'll also want to include some comments in the code cells too.\n",
    "\n",
    "* Import the data into your Notebook like we did for the sample file above, and plot the data as two lines on a single plot. The line styles, colours, etc are up to you - experiment as much as you like, but choose something appropriate for the final version.\n",
    "\n",
    "* You'll need to consider whether or not to use a continuous line, data points (and if so which style/size), or both. Which is most appropriate here, and why? Briefly explain your choice in a text cell.\n",
    "\n",
    "* Include axis labels, a legend, and a title. Again, the choice of appropriate fonts, sizes, etc is up to you.\n",
    "\n",
    "* Use `savefig` to save the plot in a suitable form for printing out and sticking into a lab book. You will upload this figure file as part of the assignment.\n",
    "\n",
    "Hints:\n",
    "* Look at the data file in Notepad to see what format it is in before trying to import it (if you open it in Excel, it just looks like a spreadsheet, which doesn't really help you decipher the format!)  \n",
    "* Read the loadtxt help at http://docs.scipy.org/doc/numpy/reference/generated/numpy.loadtxt.html carefully, in particular how to set the delimiter.\n",
    "* You can find information on typesetting maths / greek letters in Matplotlib here: http://matplotlib.org/users/mathtext.html\n"
   ]
  }
 ],
 "metadata": {
  "kernelspec": {
   "display_name": "Python 2",
   "language": "python",
   "name": "python2"
  },
  "language_info": {
   "codemirror_mode": {
    "name": "ipython",
    "version": 2
   },
   "file_extension": ".py",
   "mimetype": "text/x-python",
   "name": "python",
   "nbconvert_exporter": "python",
   "pygments_lexer": "ipython2",
   "version": "2.7.10"
  }
 },
 "nbformat": 4,
 "nbformat_minor": 0
}
