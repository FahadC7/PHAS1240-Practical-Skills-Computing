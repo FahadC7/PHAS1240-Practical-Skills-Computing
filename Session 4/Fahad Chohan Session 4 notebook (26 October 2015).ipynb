{
 "cells": [
  {
   "cell_type": "markdown",
   "metadata": {},
   "source": [
    "This is data from an experiment used as an example for learning how to use data to make a graph via matplotlib and how to use matplotlib"
   ]
  },
  {
   "cell_type": "markdown",
   "metadata": {},
   "source": [
    "##X-ray diffraction of LiF and NaCl (26/10/2015)"
   ]
  },
  {
   "cell_type": "markdown",
   "metadata": {},
   "source": [
    "I have imported numpy and matplotlib. \n",
    "Alos the \"%matplotlib inline\" function is a command which keeps the data plots in  the same notebook and not a new pop-up"
   ]
  },
  {
   "cell_type": "code",
   "execution_count": 1,
   "metadata": {
    "collapsed": true
   },
   "outputs": [],
   "source": [
    "#Importing NumPy\n",
    "import numpy as np\n",
    "\n",
    "#Importing matplotlib\n",
    "import matplotlib.pyplot as plt\n",
    "\n",
    "#Keeping matplotlib inside notebook\n",
    "%matplotlib inline"
   ]
  },
  {
   "cell_type": "markdown",
   "metadata": {},
   "source": [
    "##Data import"
   ]
  },
  {
   "cell_type": "markdown",
   "metadata": {},
   "source": [
    "I am importing data for the LiF crystal from a csv file and am unpacking into a set for x and y."
   ]
  },
  {
   "cell_type": "code",
   "execution_count": 2,
   "metadata": {
    "collapsed": false
   },
   "outputs": [
    {
     "name": "stdout",
     "output_type": "stream",
     "text": [
      "Our LiF x values:  [  11.    12.    14.    16.    17.    18.    18.5   19.    19.5   20.\n",
      "   20.5   21.    21.5   22.    22.5   23.    23.5   24.    24.5   25.\n",
      "   25.5   26.    28.    30.    32.    34.    35.    36.    37.    38.    39.\n",
      "   39.5   40.    40.5   41.    42.    43.    43.5   44.    44.5   45.\n",
      "   45.5   46.    48.    52.    54.    56.    58.    60.    62.    64.    66.\n",
      "   68.    70.    72.    74.    76.    78.    80.    82.    84.    86.\n",
      "   86.5   87.    87.5   88.    92.    94.    96.    98.    98.5   99.\n",
      "   99.5  100.   101.   102.   104.   106.   108.   110.   112.   114.   116.\n",
      "  118.   120. ]\n",
      "Our LiF y values:  [  1.00000000e+00   1.00000000e+00   1.00000000e+00   4.00000000e+00\n",
      "   6.00000000e+00   2.20000000e+01   3.60000000e+01   4.50000000e+01\n",
      "   5.50000000e+01   6.00000000e+01   6.50000000e+01   7.00000000e+01\n",
      "   7.80000000e+01   1.75000000e+02   1.60000000e+02   1.50000000e+02\n",
      "   1.40000000e+02   1.50000000e+02   1.55000000e+02   1.45000000e+02\n",
      "   1.35000000e+02   1.30000000e+02   9.50000000e+01   9.00000000e+01\n",
      "   8.00000000e+01   7.00000000e+01   7.50000000e+01   8.00000000e+01\n",
      "   7.20000000e+01   5.80000000e+01   9.50000000e+01   3.50000000e+02\n",
      "   4.70000000e+02   2.20000000e+02   7.00000000e+01   7.40000000e+01\n",
      "   8.50000000e+01   1.45000000e+02   6.40000000e+02   1.80000000e+03\n",
      "   9.00000000e+02   8.50000000e+01   5.20000000e+01   3.80000000e+01\n",
      "   3.10000000e+01   2.40000000e+01   1.80000000e+01   2.00000000e+01\n",
      "   2.20000000e+01   1.80000000e+01   1.40000000e+01   1.50000000e+01\n",
      "   9.00000000e+00   1.50000000e+01   1.00000000e+01   1.20000000e+01\n",
      "   1.10000000e+01   1.40000000e+01   1.00000000e+01   8.00000000e+00\n",
      "   1.00000000e+01   1.00000000e+00   4.20000000e+01   5.50000000e+01\n",
      "   2.50000000e+01   1.20000000e+01   1.10000000e+01   1.10000000e+01\n",
      "   1.20000000e+01   1.60000000e+01   9.50000000e+01   2.40000000e+02\n",
      "   2.50000000e+02   7.70000000e+01   1.40000000e+01   1.30000000e+01\n",
      "   1.20000000e+01   1.00000000e+01   1.20000000e+01   1.20000000e+01\n",
      "   8.00000000e+00   1.00000000e+01   1.10000000e+01   1.10000000e+01\n",
      "   1.10000000e+01]\n"
     ]
    }
   ],
   "source": [
    "#Importing data from file and unpacking. \n",
    "#Also delimiter had to be set to ',' so it recognises that the data is seperated by a comma.\n",
    "xLiF, yLiF = np.loadtxt(\"LiF-30kV.csv\", unpack=True, delimiter=',') \n",
    "\n",
    "#Displaying the data for x and y values\n",
    "print \"Our LiF x values: \", xLiF\n",
    "print \"Our LiF y values: \", yLiF"
   ]
  },
  {
   "cell_type": "markdown",
   "metadata": {},
   "source": [
    "I am importing data for the NaCl crystal from a csv file and am unpacking into a set for x and y"
   ]
  },
  {
   "cell_type": "code",
   "execution_count": 3,
   "metadata": {
    "collapsed": false
   },
   "outputs": [
    {
     "name": "stdout",
     "output_type": "stream",
     "text": [
      "Our NaCl x values:  [  11.     13.     15.     17.     19.     21.     23.     24.     25.\n",
      "   27.     27.33   27.66   28.     28.33   28.66   29.     30.     30.33\n",
      "   30.66   31.     31.33   31.5    32.     33.     34.     36.     38.\n",
      "   40.     42.     44.     46.     48.     50.     52.     54.     56.\n",
      "   58.     60.     62.     64.     64.5    65.     65.5    66.     66.5\n",
      "   67.     68.     70.     72.     74.     76.     78.     80.     82.\n",
      "   84.     86.     88.     90.     92.     94.     96.     98.    100.\n",
      "  102.    104.    106.    108.    109.    109.5   110.    110.5   111.\n",
      "  113.    115.    117.  ]\n",
      "Our NaCl y values:  [   2.    8.   12.   12.   13.   15.   13.   13.   15.   15.   28.   47.\n",
      "  100.  130.   75.   40.   35.   44.  100.  230.  540.  450.  110.   25.\n",
      "   22.   16.   17.   15.   12.   11.   12.   10.    9.   12.   15.   12.\n",
      "   11.   10.    9.   14.   10.   22.  150.  175.   75.   12.    9.    7.\n",
      "    6.    6.    6.    7.    5.    7.    6.    7.    6.    6.    6.    7.\n",
      "    9.    4.    2.    3.    3.    6.    4.   15.   33.   18.    7.    4.\n",
      "    6.    7.    8.]\n"
     ]
    }
   ],
   "source": [
    "#Importing data from file and unpacking.\n",
    "#Also delimiter had to be set to ',' so it recognises that the data is seperated by a comma.\n",
    "xNaCl, yNaCl = np.loadtxt(\"NaCl-30kV.csv\", unpack=True, delimiter=',') \n",
    "\n",
    "#Displaying the data for x and y values\n",
    "print \"Our NaCl x values: \", xNaCl\n",
    "print \"Our NaCl y values: \", yNaCl"
   ]
  },
  {
   "cell_type": "markdown",
   "metadata": {},
   "source": [
    "##Graph"
   ]
  },
  {
   "cell_type": "markdown",
   "metadata": {},
   "source": [
    "Data for both crystals is put into one graph. First I have added a grid. Then i have added the plots for both crystals and have made one red and one blue, i have also made it so that the actual data points can be seen on the solid lines as the actual data is discrete. Then I have labelled the axis and added a title. I have then added a legend for both crystals and located the legend to the upper right where it does not hide any data. Finally I have exported my graph to a pdf file because it can then be printed and resized as prefered."
   ]
  },
  {
   "cell_type": "code",
   "execution_count": 4,
   "metadata": {
    "collapsed": false
   },
   "outputs": [
    {
     "data": {
      "image/png": "[encoded data removed]",
      "text/plain": [
       "<matplotlib.figure.Figure at 0xaebecf8>"
      ]
     },
     "metadata": {},
     "output_type": "display_data"
    }
   ],
   "source": [
    "#Adding grid lines\n",
    "plt.grid(True)\n",
    "\n",
    "#Plotting the data for both and selecting in what format the data is presented (solid lines with data points).\n",
    "#Also labelled each pot so legend can recognise\n",
    "plt.plot(xLiF,yLiF,'r.-',label=\"LiF\")\n",
    "plt.plot(xNaCl,yNaCl,'b.-',label=\"NaCl\")\n",
    "\n",
    "#Naming axis and title\n",
    "plt.xlabel('Double diffraction angle, 2$\\\\theta$ (deg)')\n",
    "plt.ylabel('Counts recorded per second')\n",
    "plt.title('x-ray diffraction data for LiF and NaCl crystals')\n",
    "\n",
    "#Selecting place for legend\n",
    "plt.legend(loc=\"upper right\")\n",
    "\n",
    "#Exporting graph to pdf\n",
    "plt.savefig('Fahad Chohan Session 4 plot.pdf')"
   ]
  },
  {
   "cell_type": "code",
   "execution_count": null,
   "metadata": {
    "collapsed": true
   },
   "outputs": [],
   "source": []
  }
 ],
 "metadata": {
  "kernelspec": {
   "display_name": "Python 2",
   "language": "python",
   "name": "python2"
  },
  "language_info": {
   "codemirror_mode": {
    "name": "ipython",
    "version": 2
   },
   "file_extension": ".py",
   "mimetype": "text/x-python",
   "name": "python",
   "nbconvert_exporter": "python",
   "pygments_lexer": "ipython2",
   "version": "2.7.10"
  }
 },
 "nbformat": 4,
 "nbformat_minor": 0
}
