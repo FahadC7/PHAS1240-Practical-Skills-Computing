{
 "cells": [
  {
   "cell_type": "markdown",
   "metadata": {},
   "source": [
    "# PHAS1240 Session 5:\n",
    "# Fitting data with a least-squares fit\n",
    "\n",
    "Fahad Chohan\n",
    "Last updated: 02/11/15"
   ]
  },
  {
   "cell_type": "markdown",
   "metadata": {},
   "source": [
    "####In this session I am using data from PhD research done by Konstantinos Konstantinou and am using it to firstly plot a graph and then finding the line of best fit by method of least-squares fit."
   ]
  },
  {
   "cell_type": "markdown",
   "metadata": {},
   "source": [
    "I have imported numpy and matplotlib. \n",
    "Alos the \"%matplotlib inline\" function is a command which keeps the data plots in  the same notebook and not a new pop-up"
   ]
  },
  {
   "cell_type": "code",
   "execution_count": 1,
   "metadata": {
    "collapsed": true
   },
   "outputs": [],
   "source": [
    "#Importing NumPy\n",
    "import numpy as np\n",
    "\n",
    "#Importing matplotlib\n",
    "import matplotlib.pyplot as plt\n",
    "\n",
    "#Keeping matplotlib inside notebook\n",
    "%matplotlib inline"
   ]
  },
  {
   "cell_type": "markdown",
   "metadata": {},
   "source": [
    "##Data import"
   ]
  },
  {
   "cell_type": "markdown",
   "metadata": {},
   "source": [
    "I am importing data for the Mean Square Displacement data for Na ions in soda lime silicate glass from a csv file and am unpacking into a set for x and y."
   ]
  },
  {
   "cell_type": "code",
   "execution_count": 2,
   "metadata": {
    "collapsed": false
   },
   "outputs": [
    {
     "name": "stdout",
     "output_type": "stream",
     "text": [
      "Simulation Time (10^-12 s):  [ 30.  31.  32.  33.  34.  35.  36.  37.  38.  39.  40.]\n",
      "Mean Square Displacement (10^-20 m^2):  [ 66.97733153  69.00393687  71.02691592  73.04670438  75.06715793\n",
      "  77.08458775  79.10092977  81.11463975  83.12702433  85.13417612\n",
      "  87.1357832 ]\n"
     ]
    }
   ],
   "source": [
    "#Importing data from file and unpacking. \n",
    "#Also delimiter had to be set to ',' so it recognises that the data is seperated by a comma.\n",
    "ST, MSD = np.loadtxt(\"Session5data.csv\", unpack=True, delimiter=',') \n",
    "\n",
    "#Displaying the data for x and y values\n",
    "print \"Simulation Time (10^-12 s): \", ST\n",
    "print \"Mean Square Displacement (10^-20 m^2): \", MSD"
   ]
  },
  {
   "cell_type": "markdown",
   "metadata": {},
   "source": [
    "##Graph"
   ]
  },
  {
   "cell_type": "markdown",
   "metadata": {},
   "source": [
    "Data is put into one graph with line of best fit. First I have added a grid. Then i have added the plots. Then I have labelled the axis and added a title. Finally I have exported my graph to a png and pdf file because it can then be printed and resized as prefered."
   ]
  },
  {
   "cell_type": "code",
   "execution_count": 3,
   "metadata": {
    "collapsed": false
   },
   "outputs": [
    {
     "name": "stdout",
     "output_type": "stream",
     "text": [
      "Slope: 2.016  10^-12 m^2 s^-1\n",
      "Intercept: 6.51 10^-20 m^2\n",
      "Error in Slope: 0.001  10^-12 m^2 s^-1\n",
      "Error in Intercept: 0.04 10^-20 m^2\n",
      "y = 2.016x + 6.51\n",
      "Diffusion Coefficient (D): 0.3360  10^-12 m^2 s^-1\n",
      "Error in Diffusion Coefficient: 0.0002  10^-12 m^2 s^-1\n"
     ]
    }
   ],
   "source": [
    "#Length of array, n\n",
    "n = len(ST)\n",
    "\n",
    "#Redfining array\n",
    "x_i = ST\n",
    "y_i = MSD\n",
    "\n",
    "#Finding average\n",
    "x_bar = np.mean(ST)\n",
    "y_bar = np.mean(MSD)\n",
    "\n",
    "#Finding value for slope and intercept from given equations\n",
    "suma = np.sum((x_i - x_bar) * y_i)\n",
    "sumb = np.sum((x_i - x_bar)**2)\n",
    "m = suma / sumb\n",
    "c = y_bar - m * x_bar\n",
    "\n",
    "#Printing value for slope and intercept to correct sig fig with units\n",
    "print \"Slope: {0:0.3f}\".format(m), \" 10^-12 m^2 s^-1\"\n",
    "print \"Intercept: {0:0.2f}\".format(c), \"10^-20 m^2\"\n",
    "\n",
    "#Calculating errors\n",
    "d_i = y_i - m * x_i - c\n",
    "m_delta = ((1/sumb) * (np.sum((d_i)**2))/(n - 2))**0.5\n",
    "c_delta = (((1/n) + ((x_bar)**2)/sumb) * (np.sum((d_i)**2))/(n - 2))**0.5\n",
    "\n",
    "#Printing errors\n",
    "print \"Error in Slope: {0:0.3f}\".format(m_delta), \" 10^-12 m^2 s^-1\"\n",
    "print \"Error in Intercept: {0:0.2f}\".format(c_delta), \"10^-20 m^2\"\n",
    "\n",
    "#Printing equation of line\n",
    "print \"y = {0:0.3f}x + {1:0.2f}\".format(m,c)\n",
    "\n",
    "#Printing value and error for D\n",
    "print \"Diffusion Coefficient (D): {0:0.4f}\".format(m/6), \" 10^-12 m^2 s^-1\"\n",
    "print \"Error in Diffusion Coefficient: {0:0.4f}\".format(m_delta / 6), \" 10^-12 m^2 s^-1\""
   ]
  },
  {
   "cell_type": "code",
   "execution_count": 4,
   "metadata": {
    "collapsed": false
   },
   "outputs": [
    {
     "data": {
      "image/png": "[encoded data removed]",
      "text/plain": [
       "<matplotlib.figure.Figure at 0x4c7fef0>"
      ]
     },
     "metadata": {},
     "output_type": "display_data"
    }
   ],
   "source": [
    "#Adding grid lines\n",
    "plt.grid(True)\n",
    "\n",
    "#Adding graph x limit\n",
    "plt.xlim(29,41)\n",
    "\n",
    "#Using 2 calculated points from my equation to fit line of best fit\n",
    "x_1 = 29\n",
    "x_2 = 41\n",
    "\n",
    "#Making an array for the two points so they can later be plotted on graph as line\n",
    "p = np.array([x_1,x_2])\n",
    "q = np.array([m * x_1 + c,m * x_2 + c])\n",
    "\n",
    "#Plotting the data as points and selecting in what format the data is presented (just data points).\n",
    "plt.plot(ST,MSD,'b.')\n",
    "\n",
    "#Plotting line of best fit from above array\n",
    "plt.plot(p,q,'k')\n",
    "\n",
    "#Printing the equation of line as text and in the correct amount of sig fig using formatting\n",
    "plt.text(32, 65, \"y = {0:0.3f} x + {1:0.2f} deltaM:{2:0.3f} deltaC:{3:0.2f}\".format(m,c,m_delta,c_delta))\n",
    "\n",
    "#Naming axis and title\n",
    "plt.xlabel('Simulation time ($10^{-12}$s)')\n",
    "plt.ylabel('MSD ($10^{-20} m^2$)')\n",
    "plt.title('MSD data for Na ions in soda lime silicate glass')\n",
    "\n",
    "#Exporting graph to pdf and png\n",
    "plt.savefig('Fahad Chohan Session 5 plot.pdf')\n",
    "plt.savefig('Fahad Chohan Session 5 plot.png')"
   ]
  },
  {
   "cell_type": "code",
   "execution_count": null,
   "metadata": {
    "collapsed": true
   },
   "outputs": [],
   "source": []
  }
 ],
 "metadata": {
  "kernelspec": {
   "display_name": "Python 2",
   "language": "python",
   "name": "python2"
  },
  "language_info": {
   "codemirror_mode": {
    "name": "ipython",
    "version": 2
   },
   "file_extension": ".py",
   "mimetype": "text/x-python",
   "name": "python",
   "nbconvert_exporter": "python",
   "pygments_lexer": "ipython2",
   "version": "2.7.10"
  }
 },
 "nbformat": 4,
 "nbformat_minor": 0
}
