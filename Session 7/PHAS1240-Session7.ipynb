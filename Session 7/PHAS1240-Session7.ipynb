{
 "cells": [
  {
   "cell_type": "markdown",
   "metadata": {},
   "source": [
    "# Session 7: Vpython and the \"visual\" module\n",
    "\n",
    "#### Louise Dash (last revision 17/11/2015)"
   ]
  },
  {
   "cell_type": "markdown",
   "metadata": {},
   "source": [
    "In this session we're going to introduce vpython (short for visual python) which is designed to visualize three-dimensional systems using a python module called \"visual\". This makes it particularly useful for physics applications. \n",
    "\n",
    "Unfortunately, it doesn't always work well with IPython (either notebook or generally), so for this session we'll use Spyder - copy and paste the code cells in the notebook to Spyder to see how they work. You'll also need to tell Spyder to run in a straight python kernel rather than ipython: Select Preferences from the Tools menu, and under Run, click the button marked \"Execute in a new dedicated python terminal\"."
   ]
  },
  {
   "cell_type": "markdown",
   "metadata": {},
   "source": [
    "## Useful Vpython/visual commands\n",
    "Vpython introduces some new commands/functions - this is a summary of the most useful ones we'll use in this course.\n",
    "\n",
    "You can (and should!) access the full Vpython documentation here: http://www.vpython.org/contents/docs/index.html\n",
    "\n",
    "### Importing Vpython:\n",
    "It's best to only import the commands you need from Vpython. The module that contains the vpython commands is called \"visual\".\n",
    "\n",
    "For example, this will import the commands you need for the examples on this page:"
   ]
  },
  {
   "cell_type": "raw",
   "metadata": {},
   "source": [
    "from visual import sphere, color, curve, rate"
   ]
  },
  {
   "cell_type": "markdown",
   "metadata": {},
   "source": [
    "(Occasionally it may be more convenient to use \"from visual import $*$\"  This will also automatically import numpy. You will also see this used in many of the example codes, however I would strongly encourage you to import the commands one-by-one as above).\n",
    "\n",
    "### Drawing a sphere:"
   ]
  },
  {
   "cell_type": "raw",
   "metadata": {},
   "source": [
    "ball = sphere(pos=(0,0,0),radius=0.5,color=color.red,make_trail=True) "
   ]
  },
  {
   "cell_type": "markdown",
   "metadata": {},
   "source": [
    "will create an object called \"ball\", draw it as a red sphere at (0,0,0) with radius 0.5, and leave a trail behind when the position changes.\n",
    "\n",
    "### Moving a sphere:\n",
    "We'll be using this in sessions 8 and 9 when we do animations, but this is good to know now anyway.\n",
    "\n",
    "Make sure you have defined your sphere first! Then you can move it to its new position using a command like:"
   ]
  },
  {
   "cell_type": "markdown",
   "metadata": {},
   "source": [
    "ball.pos = (1,2,3)"
   ]
  },
  {
   "cell_type": "markdown",
   "metadata": {},
   "source": [
    "which will move the sphere-object called \"ball\" to the position x=1, y=2, z=3. You can slow down the speed at which this happens with the rate command (see http://vpython.org/contents/docs/rate.html)"
   ]
  },
  {
   "cell_type": "raw",
   "metadata": {},
   "source": [
    "rate(50) # animation will be recalculated at a maximum 50 times/second"
   ]
  },
  {
   "cell_type": "markdown",
   "metadata": {},
   "source": [
    "### Drawing a line:\n",
    "To draw a straight line, use the vpython command \"curve\". (Yes. Not very logical)"
   ]
  },
  {
   "cell_type": "raw",
   "metadata": {},
   "source": [
    "myline = curve(pos=[(0,0,0), (1,0,0)])"
   ]
  },
  {
   "cell_type": "markdown",
   "metadata": {},
   "source": [
    "will draw a thin line from (0,0,0) to (1,0,0). Note how the positions are given in the form of a tuple. You can define as many points on the line as you want, e.g:"
   ]
  },
  {
   "cell_type": "raw",
   "metadata": {},
   "source": [
    "square = curve(pos=[(0,0,0),(0,1,0),(1,1,0),(1,0,0),(0,0,0)])"
   ]
  },
  {
   "cell_type": "markdown",
   "metadata": {},
   "source": [
    "Note that if you include enough points, you can indeed end up with an object that looks like a curve (made up of straight lines):"
   ]
  },
  {
   "cell_type": "raw",
   "metadata": {},
   "source": [
    "helix = curve( x = np.arange(0,20,0.1) ) # Define an object called helix, and its x-component\n",
    "helix.y = np.sin( 2.0*helix.x ) # y-component\n",
    "helix.z = np.cos( 2.0*helix.x ) # z-component"
   ]
  },
  {
   "cell_type": "markdown",
   "metadata": {},
   "source": [
    "Try this one out and rotate the view by holding down the right mouse button!\n"
   ]
  },
  {
   "cell_type": "markdown",
   "metadata": {},
   "source": [
    "## Example and Task: Crystal structures\n",
    "This code will draw a three-dimensional grid of spheres on the screen, which you can then rotate using the right mouse button."
   ]
  },
  {
   "cell_type": "code",
   "execution_count": null,
   "metadata": {
    "collapsed": false
   },
   "outputs": [],
   "source": [
    "from visual import sphere, color\n",
    "num = 3\n",
    "size = 0.3 # size of the \"atoms\"\n",
    "# loop over each spatial dimension\n",
    "for i in range(-num, num+1):\n",
    "    for j in range(-num, num+1):\n",
    "        for k in range (-num, num+1):\n",
    "            sphere(pos=[i,j,k],radius=size,color=color.green)\n",
    "            "
   ]
  },
  {
   "cell_type": "markdown",
   "metadata": {},
   "source": [
    "Can you see why we've set the loops to run from `-num` to `num+1` and not from 1 to `2*num`? If not - try it out to see what happens.\n",
    "\n",
    "This is actually a model of part of an infinite crystal$^*$, using spheres to represent the atoms. The three-dimensional structure of crystals is very hard to visualize from a 2-d representation, so a model you can rotate in any direction is much more useful. \n",
    "\n",
    "Try changing:\n",
    "\n",
    "* The number of \"atoms\" in the crystal\n",
    "* The size of the atoms\n",
    "* The color of the atoms\n",
    "\n",
    "This structure is known as a simple cubic structure, and is the easiest crystal structure to draw and visualise.  However, it doesn't occur much in nature, because it isn't a very efficient way of packing the atoms$^*$. \n",
    "\n",
    "($^*$ You'll learn much more about this in PHAS1228 and when you study solid state physics in the third year. This model shows just part of an infinite crystal - if you were to stack this model \"cell\" in each direction infinitely, you'd have an infinite, perfect crystal. A real crystal is finite, rather than extending to infinity in each direction, and will also have surface effects as well as defects and/or interfaces, which are fascinating topics in research, for example at the LCN: http://www.london-nano.com/research-and-facilities/themes/areas/thin-films-surfaces-and-interfaces.)\n",
    "\n",
    "\n",
    "\n"
   ]
  },
  {
   "cell_type": "markdown",
   "metadata": {},
   "source": [
    "### NaCl (rocksalt) structure\n",
    "\n",
    "Now we'll look at a Sodium Chloride crystal structure. This is also a cubic crystal structure, but now the atoms are arranged so that they alternate in each plane, like this:\n",
    "http://en.wikipedia.org/wiki/Cubic_crystal_system#mediaviewer/File:NaCl_polyhedra.png\n",
    "If we label the coordinates of each atom by `(i,j,k)`, as before, then for this structure we have sodium atoms where $ i + j + k $ is even, and chlorine atoms where $i + j + k$ is odd. You can find further information on these crystal structures, if you're interested: http://en.wikipedia.org/wiki/Cubic_crystal_system)."
   ]
  },
  {
   "cell_type": "markdown",
   "metadata": {},
   "source": [
    "<div class=\"alert alert-success\">\n",
    "***TASK PART 1:*** Use the code from the simple cubic example above to create a model of the NaCl structure. You don't need to include the bonds as \"sticks\" like in the Wikipedia image, just the spheres is fine.</div>"
   ]
  },
  {
   "cell_type": "markdown",
   "metadata": {},
   "source": [
    "### Calculating the Madelung sum\n",
    "\n",
    "Sodium Chloride is an ionic solid, in which the entities are ions rather than neutral atoms. We're going to calculate the total electric potential $V$ that each atom/ion in the NaCl crystal feels. Each sodium ion will have a charge $+e$, and each chlorine ion $-e$. The total potential will then depend on the charges and positions of the nearby atoms.\n",
    "\n",
    "Let's consider a sodium atom at the origin ($i= j = k = 0$), with a spacing $a$ between the atoms. The distance between the origin \n",
    "and an atom with position coordinate $(i, j, k)$ is then\n",
    "$$ \\sqrt{(ia)^2 + (ja)^2 + (ka)^2} = a \\sqrt{i^2 + j^2 + k^2},$$\n",
    "\n",
    "and the potential at the origin created by such an atom is\n",
    "\n",
    "$$ V(i,j,k) = \\pm \\frac{e}{4\\pi\\varepsilon_0 a \\sqrt{i^2 + j^2 + k^2}}.$$\n",
    "\n",
    "The sign of the expression will depend on the sign of the charge of the atom at $(i,j,k)$, which we know from the structure we built above will be positive if $(i + j + k)$ is even (i.e. sodium ion), or negative if $(i+j+k)$ is odd (i.e. chlorine ion). \n",
    "\n",
    "Summed over all the atoms in the crystal, this gives our expression for the total electric potential felt by the sodium atom at the centre of the crystal:\n",
    "\n",
    "$$ V_\\text{total} = \\sum_{i,j,k= -L (i,j,k, \\neq 0)}^L V(i,j,k)  \\\\\n",
    " = \\frac{e}{4 \\pi \\varepsilon_0 a} M, $$\n",
    "\n",
    "where $M$ is known as the Madelung constant."
   ]
  },
  {
   "cell_type": "markdown",
   "metadata": {},
   "source": [
    "<div class=\"alert alert-success\">\n",
    "***TASK PART 2:*** Expand your NaCl crystal code to calculate the Madelung constant $M$ for a NaCl crystal, and draw the crystal structure, for $L = 12$.\n",
    "<br>\n",
    "<br>\n",
    "Technically, we need to run the sum from $-\\infty$ to $\\infty$ rather than from $-L$ to $L$ to find the actual value of the constant, which is $\\sim -1.748$ for a NaCl crystal. How does your value compare? Either output your comparison or include it in a code comment.\n",
    "</div>"
   ]
  },
  {
   "cell_type": "markdown",
   "metadata": {},
   "source": [
    "If you have time, take a look at this vpython crystal model - complete with vibrating atoms: https://github.com/BruceSherwood/vpython-wx/blob/master/site-packages/visual/examples/crystal.py  There are lots of other interesting physics examples using vpython at http://www.vpython.org/contents/contributed.html"
   ]
  }
 ],
 "metadata": {
  "kernelspec": {
   "display_name": "Python 2",
   "language": "python",
   "name": "python2"
  },
  "language_info": {
   "codemirror_mode": {
    "name": "ipython",
    "version": 2
   },
   "file_extension": ".py",
   "mimetype": "text/x-python",
   "name": "python",
   "nbconvert_exporter": "python",
   "pygments_lexer": "ipython2",
   "version": "2.7.10"
  }
 },
 "nbformat": 4,
 "nbformat_minor": 0
}
