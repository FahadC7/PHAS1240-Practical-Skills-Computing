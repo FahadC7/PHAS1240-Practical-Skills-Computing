{
 "cells": [
  {
   "cell_type": "markdown",
   "metadata": {
    "collapsed": true
   },
   "source": [
    "# Session 6 Template (Replace this title with your own title)\n",
    "\n",
    "And replace this sentence with a suitable introduction."
   ]
  },
  {
   "cell_type": "markdown",
   "metadata": {},
   "source": [
    "<div class=\"alert alert-success\">\n",
    "<h2> The task: </h2>\n",
    "<br>\n",
    "This is a template for the session 6 Fourier Square Wave task. Your job is to fill in the blanks in the code and add text cells where needed. \n",
    "<br>\n",
    "All the instructions for the task are in green text cells like this one. You can keep these cells in your submitted workbook if you want, but they will be ignored by the markers.\n",
    "<br>\n",
    "You will be graded on your completed code, and the text cells that you add yourself.\n",
    "\n",
    "</div>"
   ]
  },
  {
   "cell_type": "markdown",
   "metadata": {},
   "source": [
    "<div class=\"alert alert-success\">\n",
    "Replace the title/header of this notebook with your own title, and include a suitable introduction (you can leave this until the end, but don't forget!)\n",
    "\n",
    "<br>\n",
    "Complete the cell below to import the functions you will need in order to be able to use the same interactive functions you saw in the script.\n",
    "<div>\n"
   ]
  },
  {
   "cell_type": "code",
   "execution_count": null,
   "metadata": {
    "collapsed": true
   },
   "outputs": [],
   "source": [
    "import numpy as np\n",
    "import matplotlib.pyplot as plt\n",
    "\n",
    "### YOU NEED TO IMPORT TWO MORE MODULE FUNCTIONS HERE ###\n",
    "\n",
    "\n",
    "######################################################################\n",
    "\n",
    "%matplotlib inline\n",
    "\n",
    "# The line below increases the default figure size. \n",
    "# Useful if you are on a large screen, you may want to\n",
    "# edit it to taste or comment it out\n",
    "# if you are on a small-screen laptop.\n",
    "plt.rcParams['figure.figsize'] = 9, 6 \n",
    "\n"
   ]
  },
  {
   "cell_type": "markdown",
   "metadata": {},
   "source": [
    "<div class=\"alert alert-success\">\n",
    "The code cell below defines our initial data. A value for $L$, the period of the function, has already been set. Add a line that will create an array, named `x`, of values to use for the x-values for the plot from 0 to $5\\pi$, with an appropriate number of points to result in a smooth function on the plot (you can come back and adjust this later).\n",
    "<div>\n"
   ]
  },
  {
   "cell_type": "code",
   "execution_count": null,
   "metadata": {
    "collapsed": true
   },
   "outputs": [],
   "source": [
    "### Set up initial data\n",
    "L = np.pi # period of the function is [−L,L]\n",
    "##### STUDENT COMPLETED LINE #####\n",
    "\n",
    "###################################"
   ]
  },
  {
   "cell_type": "markdown",
   "metadata": {},
   "source": [
    "<div class=\"alert alert-success\">\n",
    "The code cell below contains the start of a function that needs to calculate the Fourier series for a square wave, i.e. it codes the mathematical function\n",
    "$$f_\\text{square}(x) = \\frac{4}{\\pi} \\sum_{n = 1, 3, 5, \\ldots}^{\\infty} \\frac{1}{n} \\sin\\left(\\frac{n \\pi x}{L}\\right) \\qquad \\qquad (1)$$ \n",
    "for all $n$ up to and including $n = $ <tt>n_terms</tt>. The docstring has already been written for you.\n",
    "\n",
    "<ul>\n",
    "<li>\n",
    "Complete the function to calculate the Fourier series for the number of terms <tt>n_terms</tt> specified in the function input. </li>\n",
    "<li>Don't change any of the variable names. </li>\n",
    "<li>Use a new text cell, as well as appropriate code comments, to describe your function.</li>\n",
    "</ul>\n",
    "\n",
    "<b> Note:</b> Here the variable <tt>L</tt> will act as a _global_ variable. It is defined in the cell above, and when you reference <tt>L</tt> in your function it will use that value of <tt>L</tt>, without having to explicitly pass it to the function. In other words, you don't need to redefine <tt>L</tt> within your function.\n",
    "\n",
    "<b> HINT:</b> You will need to use the same kind of looping structure that you used in the series summation task for session 2. Think carefully about the differences and similarities between that sum and this one.\n",
    "<div>\n"
   ]
  },
  {
   "cell_type": "code",
   "execution_count": null,
   "metadata": {
    "collapsed": true
   },
   "outputs": [],
   "source": [
    "def fourier_sum(x_values,n_terms):\n",
    "    '''function that creates the Fourier series for square wave.\n",
    "    Inputs:\n",
    "    x_values: array of x-values\n",
    "    n_terms: maximum value of n in summation from eqn(1) above\n",
    "    Returns:\n",
    "    fourier: array of y-values for Fourier square wave\n",
    "    '''\n",
    "    #### STUDENT COMPLETED CELL ####\n",
    "    # Write code here to satisfy the specification given \n",
    "    # in the docstring.\n",
    "    ################################"
   ]
  },
  {
   "cell_type": "markdown",
   "metadata": {},
   "source": [
    "<div class=\"alert alert-success\">\n",
    "Now you need to write a function that will plot the Fourier series.\n",
    "\n",
    "The function in the code cell below, when completed, should \n",
    "<ul>\n",
    "<li>call your <tt>fourier_sum</tt> function from above to calculate the Fourier series for the number of terms as given in the input (i.e. n_terms); then</li>\n",
    "<li> plot it on a suitably labelled graph.</li>\n",
    "<div>\n"
   ]
  },
  {
   "cell_type": "code",
   "execution_count": null,
   "metadata": {
    "collapsed": true
   },
   "outputs": [],
   "source": [
    "def plot_fourier(n_terms):\n",
    "    #### STUDENT COMPLETED CELL ####\n",
    "    # Add your function here \n",
    "    ################################"
   ]
  },
  {
   "cell_type": "markdown",
   "metadata": {},
   "source": [
    "<div class=\"alert alert-success\">\n",
    "Now test that everything is running OK before you attempt to use the interactive slider. Add a single command in the cell below that will call your function to calculate and plot your Fourier series with $n= 3$. Does this look like how you'd expect? If not, go back and adjust your code until it does. Check it with other values of $n$ as well, and make sure you're happy with the results.\n",
    "<div>\n"
   ]
  },
  {
   "cell_type": "code",
   "execution_count": null,
   "metadata": {
    "collapsed": true
   },
   "outputs": [],
   "source": [
    "#### STUDENT COMPLETED CELL ####\n",
    "################################"
   ]
  },
  {
   "cell_type": "markdown",
   "metadata": {},
   "source": [
    "<div class=\"alert alert-success\">\n",
    "The final code cell needs to plot your Fourier series with a slider so that you can vary the number of terms in the series and see how the square wave builds up as you move the slider and increase the number of terms in the series. Choose a sensible maximum number of terms.\n",
    "\n",
    "<br> \n",
    "Use a text cell to explain\n",
    "<ul>\n",
    "<li> Your choice of maximum number of terms </li>\n",
    "<li> What is happening when the slider moves from 1$\\rightarrow$2,  3$\\rightarrow$4, 5$\\rightarrow$6 etc.</li>\n",
    "\n",
    "<div>\n"
   ]
  },
  {
   "cell_type": "code",
   "execution_count": null,
   "metadata": {
    "collapsed": true
   },
   "outputs": [],
   "source": [
    "### STUDENT COMPLETED CELL ###\n",
    "##############################"
   ]
  }
 ],
 "metadata": {
  "kernelspec": {
   "display_name": "Python 2",
   "language": "python",
   "name": "python2"
  },
  "language_info": {
   "codemirror_mode": {
    "name": "ipython",
    "version": 2
   },
   "file_extension": ".py",
   "mimetype": "text/x-python",
   "name": "python",
   "nbconvert_exporter": "python",
   "pygments_lexer": "ipython2",
   "version": "2.7.10"
  }
 },
 "nbformat": 4,
 "nbformat_minor": 0
}
