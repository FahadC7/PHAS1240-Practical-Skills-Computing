{
 "cells": [
  {
   "cell_type": "markdown",
   "metadata": {},
   "source": [
    "# Session 6: Python functions, and interactive plots\n",
    "Louise Dash, November 2015"
   ]
  },
  {
   "cell_type": "markdown",
   "metadata": {},
   "source": [
    "### Learning objectives\n",
    "\n",
    "By the end of this session, you should\n",
    "* Be familiar with the basic structure, usage and implementation of user-defined Python functions\n",
    "* Have a basic understanding of how to create interactive plots"
   ]
  },
  {
   "cell_type": "markdown",
   "metadata": {},
   "source": [
    "##### An aside before we start:\n",
    "\n",
    "One of the disadvantages of using interactive Python is that it keeps the value of variables in memory, even when you might not want it to - for example, it is possible to (accidentally) delete a variable definition and only notice when you restart the kernel or run the code on a different machine, when you get an error message. \n",
    "\n",
    "The easiest way of clearing all variables from a notebook is to restart the kernel. It's a good idea to do this every so often (so that any problems that need fixing are likely to be both minor and fresh in your memory) and crucial to do this before uploading an assignment!"
   ]
  },
  {
   "cell_type": "markdown",
   "metadata": {},
   "source": [
    "## Introduction\n",
    "\n",
    "We'll be doing plotting in this session, so we'll start by immediately importing numpy and matplotlib. There's a few more things we'll introduce and import later on, so watch out for them!"
   ]
  },
  {
   "cell_type": "code",
   "execution_count": null,
   "metadata": {
    "collapsed": false
   },
   "outputs": [],
   "source": [
    "import numpy as np\n",
    "import matplotlib.pyplot as plt\n",
    "%matplotlib inline"
   ]
  },
  {
   "cell_type": "markdown",
   "metadata": {},
   "source": [
    "### Python functions\n",
    "Sometimes, we'll want to do some task many times, but a loop structure isn't appropriate.\n",
    "\n",
    "In these cases, we can write our own functions, and call them just like python's inbuilt functions.\n",
    "\n",
    "For example, look at the sinc function:\n",
    "\n",
    "$$\\text{sinc}(x) = \\frac{\\sin(x)}{x}$$\n",
    "\n",
    "We can write a Python function that will calculate this, and which we can then call when needed using sincfn(value)"
   ]
  },
  {
   "cell_type": "code",
   "execution_count": null,
   "metadata": {
    "collapsed": false
   },
   "outputs": [],
   "source": [
    "def sincfn(x):\n",
    "    \"\"\"Returns sin(x)/x for the input x\"\"\"\n",
    "    sincx = np.sin(x) / x\n",
    "    return sincx\n"
   ]
  },
  {
   "cell_type": "markdown",
   "metadata": {},
   "source": [
    "How does this work?\n",
    "* The first line defines the name of the function (in this case, sincfn). Note that it ends with a colon, just like a while loop or if statement.\n",
    "* Likewise, the following lines are all indented to show that they belong to the function\n",
    "* The second line is a docstring, which helps document the function:\n",
    " It is enclosed by three quotation marks. This is the text that will be displayed as help for the function.\n",
    "    * **All functions that you write should include a docstring** (more complicated functions will also require some #comments as well, of course). \n",
    "* The third line is the definition of the function itself. In this simple example, we only need one line of code, but functions can include as many lines of code as needed.\n",
    "* The fourth line contains the keyword \"return\". This tells Python to return the following value(s) as output from the function.\n",
    "\n",
    "Note that the \"x\" in this function is a _local_ variable, which is only defined within the function. When we call the function we don't need to use the variable name x: \"sincfn(bananas)\" or \"sincfn(whatever)\" will work as long as the variable is properly defined.\n",
    "\n",
    "\n",
    "### How to call a function:\n",
    "If we run just the example function as written above (try it!), it doesn't do anything. This is because we need to call the function.\n",
    "\n",
    "But once the function is defined, we can call it from anywhere else in the same Ipython notebook or standalone .py code. (You can also combine functions into a separate module and import them, but we won't cover that here.)\n",
    "\n",
    "For example, now we've defined our sincfn, we can use it:"
   ]
  },
  {
   "cell_type": "code",
   "execution_count": null,
   "metadata": {
    "collapsed": false
   },
   "outputs": [],
   "source": [
    "xpoints = np.linspace(-20,20,1000) # grid of x data\n",
    "ypoints = sincfn(xpoints) # the function to plot   \n",
    "\n",
    "plt.plot(xpoints,ypoints)\n",
    "plt.title(\"Sinc function\")\n",
    "plt.xlabel(\"x\")\n",
    "plt.ylabel(\"sinc(x)\")\n",
    "plt.axhline(linewidth=0.5,ls=':') # adds a fine dotted line along axis\n"
   ]
  },
  {
   "cell_type": "markdown",
   "metadata": {},
   "source": [
    "**Things to note here:**\n",
    "\n",
    "* The function works not just for a single value of x, but can also be called with an array of x-values, as here.\n",
    "* The function is called just like a built-in function.\n",
    "* By convention, functions are usually included at the start of the program file (for a standalone code), after any import commands but before the main body of the code. In practice you may want to place them elsewhere to make the code more readable (especially in the case of an Ipython Notebook), but they do need to be defined before the point in the code where they are used. \n",
    "\n",
    "\n",
    "**Be careful:**\n",
    "\n",
    "* Watch out for how you define the function. What happens here if we call sincfn(0)? (Try it, if it's not obvious.) How could we avoid this?\n",
    "* Numpy contains its own `sinc` function. If we'd named our function `sinc`, this may have caused confusion and possible errors: Choose function names carefully, make sure they don't clash with inbuilt functions. By using \"import numpy as np\", we (at least partly) avoid this problem, as the numpy sinc function would be called as np.sinc, not as sinc. This is why it's better to import modules using \"import numpy as np\" etc, rather than \"from numpy import *\""
   ]
  },
  {
   "cell_type": "markdown",
   "metadata": {},
   "source": [
    "## Sliders and other widgets\n",
    "\n",
    "Now we're going to look in a bit more detail about how we can interact with plots using the widgets and sliders we saw in the least-squares visualisation code from Session 5.\n"
   ]
  },
  {
   "cell_type": "markdown",
   "metadata": {},
   "source": [
    "### Sample widget code for a sin function, with a slider to adjust the phase\n",
    "\n",
    "Here's a much simpler example than the interactive least squares code.\n",
    "\n",
    "This code plots a sin function $y = \\sin(x + \\phi)$, and includes a slider that changes the phase $\\phi$. \n",
    "\n",
    "The first thing to do is import the necessary interactive functions.\n",
    "\n",
    "**IMPORTANT NOTE: If you've installed or updated your Anaconda distribution since the beginning of November 2015, you will need to comment out the first line and use the alternative import from `ipywidgets` instead. We are working at the cutting edge of interactive plotting technology!**\n",
    "\n",
    "\n"
   ]
  },
  {
   "cell_type": "code",
   "execution_count": null,
   "metadata": {
    "collapsed": false
   },
   "outputs": [],
   "source": [
    "### Works on Desktop@UCL / any Anaconda pre Nov 2015 (version <= 2.3):\n",
    "from IPython.html.widgets import interactive \n",
    "\n",
    "### Use this line instead on any Anaconda since Nov 2015 (version 2.4+)\n",
    "#from ipywidgets import interactive\n",
    "\n",
    "from IPython.display import display"
   ]
  },
  {
   "cell_type": "markdown",
   "metadata": {},
   "source": [
    "Now we can set up the initial data - all we need here are some x-values for the plot."
   ]
  },
  {
   "cell_type": "code",
   "execution_count": null,
   "metadata": {
    "collapsed": false
   },
   "outputs": [],
   "source": [
    "### Set up the initial data:\n",
    "\n",
    "x = np.linspace(0,25,1000) # grid of x data\n"
   ]
  },
  {
   "cell_type": "markdown",
   "metadata": {},
   "source": [
    "Now we need to define a function that will redraw the plot when the slider position is changed (because, as noted above, we need to make sure that the function is defined before we can call it). This function is called when the slider (defined in the next-but-one cell) is moved to position `phi`. The function takes the value of `phi` as the current phase, and recalculates $y = \\sin(x + \\phi)$ for this phase, then redraws the new function on the plot."
   ]
  },
  {
   "cell_type": "code",
   "execution_count": null,
   "metadata": {
    "collapsed": false
   },
   "outputs": [],
   "source": [
    "def plot_phase(phi):\n",
    "    \"\"\"function to draw plot based on current slider phase position\"\"\"\n",
    "    y = np.sin(x + phi) # calculate the y-values based on current phase from slider\n",
    "    plt.plot(x, y, linewidth=1, color='r') \n",
    "    plt.ylabel(r\"sin(x + $\\phi$)\")\n",
    "    plt.title(r\"Variation of sin function with phase $\\phi$\")\n",
    "    "
   ]
  },
  {
   "cell_type": "markdown",
   "metadata": {},
   "source": [
    "Now we've defined the function, we can set up the plot. This is code you'll be able to reuse later, and is reasonably intuitive. The first line of the cell uses the `interactive` function we imported from IPython widgets / ipywidgets to call our `plot_phase` function. The second line displays it. Note how the limits and step-size for the slider are specified in the first line.\n",
    "\n",
    "(n.b. In this case we haven't specified the initial value of the slider. It is possible to do that, but in the interests of keeping things simple, we've just gone with the default.)"
   ]
  },
  {
   "cell_type": "code",
   "execution_count": null,
   "metadata": {
    "collapsed": false
   },
   "outputs": [],
   "source": [
    "# generate interactive plot\n",
    "sin_phase_plot = interactive(plot_phase, phi=(0,4*np.pi,0.1))\n",
    "display(sin_phase_plot)"
   ]
  },
  {
   "cell_type": "markdown",
   "metadata": {},
   "source": [
    "Experiment with this before moving onto the next section:\n",
    "\n",
    "* Change the limits on the values of x (using linspace) to get more or fewer cycles on the plot.\n",
    "* Change the limits on the slider.\n"
   ]
  },
  {
   "cell_type": "markdown",
   "metadata": {},
   "source": [
    "## Task: An interactive Fourier series square wave \n",
    "\n",
    "Now we've (hopefully) got the hang of how the sliders work, we can use them to visualise an important concept in Physics.\n",
    "\n",
    "### Fourier series\n",
    "Fourier's theorem says that any periodic function can be decomposed into the sum of sine and cosine functions. This is something you'll study in more depth in the Waves, Optics and Acoustics module PHAS1224 (if you're taking it) and will also come across in maths courses. We won't go into the full details of all the maths here, we just want to be able to understand the concept better by visualising it using Python\n",
    "\n",
    "We're going to see how this works by creating a square wave, like this:\n",
    "\n",
    "<img src=\"./squarewave.png\" width=400>\n",
    "\n",
    "from a Fourier series of sine functions, and use the slider to control the number of terms in the series. This will enable us to visualise exactly how the square wave is built up from sine waves of different frequencies and amplitudes. (Download the separate image file from Moodle to see the square wave).\n",
    "\n",
    "The Fourier series for a square wave is given by:\n",
    "\n",
    "$$f_\\text{square}(x) = \\frac{4}{\\pi} \\sum_{n = 1, 3, 5, \\ldots}^{\\infty} \\frac{1}{n} \\sin\\left(\\frac{n \\pi x}{L}\\right)$$\n",
    "\n",
    "where the period of the function is $[-L,L]$.  The $\\frac{4}{\\pi}$  outside the summation ensures that the amplitude of the square wave is 1. Note that each additional term in the series has a smaller amplitude (due to the 1/n term) and is also higher in frequency."
   ]
  },
  {
   "cell_type": "markdown",
   "metadata": {},
   "source": [
    "### What you need to do:\n",
    "\n",
    "Download the Session 6 task template notebook from Moodle. This is an incomplete code - your job is to complete it! The template contains full instructions in the green cells. \n",
    "\n",
    "\n"
   ]
  },
  {
   "cell_type": "code",
   "execution_count": null,
   "metadata": {
    "collapsed": false
   },
   "outputs": [],
   "source": []
  }
 ],
 "metadata": {
  "kernelspec": {
   "display_name": "Python 2",
   "language": "python",
   "name": "python2"
  },
  "language_info": {
   "codemirror_mode": {
    "name": "ipython",
    "version": 2
   },
   "file_extension": ".py",
   "mimetype": "text/x-python",
   "name": "python",
   "nbconvert_exporter": "python",
   "pygments_lexer": "ipython2",
   "version": "2.7.10"
  }
 },
 "nbformat": 4,
 "nbformat_minor": 0
}
