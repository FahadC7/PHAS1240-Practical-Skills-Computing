{
 "cells": [
  {
   "cell_type": "markdown",
   "metadata": {},
   "source": [
    "# Session 8: Vpython animations for mechanics\n",
    "*[Author: Louise Dash (louise.dash@ucl.ac.uk)\n",
    "Last updated: 26.11.2015]*\n",
    "\n",
    "> ** *Intended learning outcomes:* **\n",
    "\n",
    "> By the end of this session, you should be able to:\n",
    "> * Move vpython objects around the screen\n",
    "> * Implement equations of motion computationally to create animations of simple physical problems.\n",
    "\n",
    "As before, you should copy and paste the code cells from this notebook into Spyder. If you try to run them within the notebook and you get a \"vpython not responding\"-type error, just restart the kernel (Kernel menu-Restart)."
   ]
  },
  {
   "cell_type": "markdown",
   "metadata": {},
   "source": [
    "### Creating animations\n",
    "Last week we looked at creating objects with vpython. This week we will animate them.\n",
    "\n",
    "This is the code that we created in the screencast - it will draw one sphere at the origin, and move another sphere from the top right of the screen to the bottom left. "
   ]
  },
  {
   "cell_type": "code",
   "execution_count": 1,
   "metadata": {
    "collapsed": false
   },
   "outputs": [],
   "source": [
    "###############################################\n",
    "#      code to animate a sphere               #\n",
    "###############################################\n",
    "\n",
    "from visual import sphere, color, rate, display\n",
    "\n",
    "display(autoscale=False)\n",
    "\n",
    "n = 10\n",
    "origin = sphere(pos=(0,0,0))\n",
    "ball = sphere(pos=(n,n,0),color=color.green)\n",
    "\n",
    "while n >= -10:\n",
    "    n = n - 1\n",
    "    ball.pos = (n,n,0)\n",
    "    rate(5)  "
   ]
  },
  {
   "cell_type": "markdown",
   "metadata": {},
   "source": [
    "### Animating a projectile\n",
    "\n",
    "Now we know how to animate objects, let's look at a problem from classical mechanics: the animation of a projectile.\n",
    "\n",
    "The code below sets up the problem: it draws a green line to represent the \"ground\", and puts a sphere at the origin to represent a ball, which is launched from ground level at the (user-input) initial angle and velocity. It then starts a loop for as long as the ball is still in the air (checked by comparing the height of the ball to the initial height).\n",
    "\n",
    "A few things to note here:\n",
    "* We use the numpy radians() function to convert the user-provided angle, in degrees, to radians.\n",
    "* <tt>dt</tt> represents a small but finite timestep $\\delta t$"
   ]
  },
  {
   "cell_type": "code",
   "execution_count": null,
   "metadata": {
    "collapsed": false
   },
   "outputs": [],
   "source": [
    "############################################################\n",
    "#                                                          #\n",
    "#    Sample code to animate the motion of a projectile     #\n",
    "#                                                          #\n",
    "############################################################\n",
    "\n",
    "from visual import sphere, curve, color, display, rate\n",
    "import numpy as np\n",
    "\n",
    "# set up the scene\n",
    "scene = display(x = 50, y = 50, width = 640, height = 480, center = (20,0,0))\n",
    "ground = curve(pos=[(-5,0,0),(50,0,0)],color = color.green)\n",
    "\n",
    "# initial ball coordinates (metres)\n",
    "x0 = 0.0\n",
    "y0 = 0.0\n",
    "y = y0\n",
    "g = 9.8 # gravitational acceleration, m/s2\n",
    "dt = 0.01 # time interval for loop, in seconds\n",
    "\n",
    "# input initial angle and velocity\n",
    "dtheta = float(raw_input(\"Input the initial angle in degrees: \"))\n",
    "theta = np.radians(dtheta)\n",
    "v0 = float(raw_input(\"Input the initial velocity in metres/second: \"))\n",
    "\n",
    "\n",
    "# start the animation\n",
    "ball = sphere(pos = (x0,y0,0),radius = 1,make_trail=True)\n",
    "t = 0 # initial time\n",
    "while y >= y0:\n",
    "    # YOUR\n",
    "    # CODE\n",
    "    # HERE!"
   ]
  },
  {
   "cell_type": "markdown",
   "metadata": {},
   "source": [
    "The rest of the code is missing. Your job is to complete it!\n",
    "\n",
    "Your code will need to:\n",
    "\n",
    "* Inside the loop:\n",
    "     * Increment the time by <tt>dt</tt>\n",
    "     * Calculate the current position of the ball\n",
    "     * Redraw the ball at the new position\n",
    "* Outside the loop:\n",
    "     * Use the final value of t to calculate for how long the ball was in the air \n",
    "     * Use the final value of x to calculate where the ball landed\n",
    "     * Use the range equation to calculate the range of the ball, and compare this with your value of x.\n",
    "     * Output these results to the console.\n",
    "\n",
    "These are the relevant equations you will need, which you are already familiar with from PHAS1247.\n",
    "\n",
    "$$ x(t) = x_0 + v_0 t \\cos \\theta $$\n",
    "\n",
    "$$ y(t) = y_0 + v_0 t \\sin \\theta -\\frac{1}{2}g t^2 $$\n",
    "\n",
    "$$ \\text{Range} = \\frac{v_0^2 \\sin(2\\theta)}{g} $$\n",
    "\n",
    "Once you have the basic code working, _**do the quiz on the Moodle page**_.\n",
    "\n",
    "Then try experimenting with the code!\n",
    "\n",
    "* How is the calculation affected when you change dt?\n",
    "* Try outputting the results to the Vpython window as well as the console, if you want.\n",
    "\n",
    "### CHALLENGE!\n",
    "\n",
    "_(This challenge is **optional**, although it does carry a small amount of credit. If you accept it, you will get only non-priority help from the demonstrators)_\n",
    "\n",
    "A real ball will bounce inelastically, and the normal component of the velocity is reduced by a factor $e < 1$, where $e$ is the _coefficient of restitution_. This is described in section 4.4 of the [lecture notes for PHAS1247](https://moodle.ucl.ac.uk/pluginfile.php/2488629/mod_folder/content/0/Section-4--CM%20Frame%20and%20Collisions.pdf?forcedownload=1) - read this through if you want to attempt the challenge. Equations 22-26 of that section can be rearranged to describe how the speed and angle of our projectile will change at each bounce, depending on $e$, giving us the following four equations:\n",
    "\n",
    "The angle of incidence is defined relative to the normal (i.e. $y$-axis):\n",
    "\n",
    "$$ \\alpha = \\frac{\\pi}{2} - \\theta $$\n",
    "\n",
    "This gives us the angle of reflection, again relative to the normal (see eqn 24 of PHAS1247 section 4):\n",
    "\n",
    "$$ \\beta = \\arctan\\left(\\frac{\\tan \\alpha }{e} \\right)$$\n",
    "\n",
    "From these we can calculate the speed of the ball following the bounce, $v_0^\\prime$:\n",
    "\n",
    "$$ v_0^\\prime =  \\frac{\\cos \\alpha}{\\cos \\beta} v_0 e$$\n",
    "\n",
    "And the launch angle (relative to the $x$-axis, as before) of the ball following the bounce:\n",
    "\n",
    "$$ \\theta^\\prime = \\frac{\\pi}{2} - \\beta $$ \n",
    "\n",
    "Implement these equations in your code. You'll need to add another loop structure around the main loop and find a suitable way of exiting the loop when the bounces get trivially small.\n",
    "\n",
    "Does your code now give realistic results? Add a brief comment to your code to explain why/why not."
   ]
  },
  {
   "cell_type": "code",
   "execution_count": null,
   "metadata": {
    "collapsed": false
   },
   "outputs": [],
   "source": []
  }
 ],
 "metadata": {
  "kernelspec": {
   "display_name": "Python 2",
   "language": "python",
   "name": "python2"
  },
  "language_info": {
   "codemirror_mode": {
    "name": "ipython",
    "version": 2
   },
   "file_extension": ".py",
   "mimetype": "text/x-python",
   "name": "python",
   "nbconvert_exporter": "python",
   "pygments_lexer": "ipython2",
   "version": "2.7.10"
  }
 },
 "nbformat": 4,
 "nbformat_minor": 0
}
