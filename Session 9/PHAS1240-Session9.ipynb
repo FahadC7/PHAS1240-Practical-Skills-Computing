{
 "cells": [
  {
   "cell_type": "markdown",
   "metadata": {},
   "source": [
    "# Session 9: Modelling Planetary orbits\n",
    "\n",
    "*Louise Dash louise.dash@ucl.ac.uk* (Last updated: 02/12/2015)"
   ]
  },
  {
   "cell_type": "markdown",
   "metadata": {},
   "source": [
    "Our final task for this section will take computational modelling further: we will start with just one equation, Newton's law of universal gravitation, and from this develop a code that will model a planet orbiting a star.\n",
    "\n",
    "### Why is this interesting?\n",
    "In the previous example, the projectile, we had already derived the equations of motion analytically, so at any point in time $t$ we knew exactly the $x$- and $y$-coordinates of the ball.\n",
    "\n",
    "In this example, we will specify our initial conditions (the planet's initial position and initial velocity), and then let the system evolve in time subject to the force between the planet and the star. We don't use any analytical equation to describe the equation of motion.\n",
    "\n",
    "This also means we can explore how the initial conditions affect the motion of the planet, and find out more about the potential pitfalls of creating computational models!"
   ]
  },
  {
   "cell_type": "markdown",
   "metadata": {},
   "source": [
    "### Newton's law of universal gravitation\n",
    "Newton's law of universal gravitation states that the gravitational force between any two objects is proportional to their masses, and inversely proportional to the square of the distance between them:\n",
    "\n",
    "$$F = -\\frac{G m_1 m_2}{r^2}$$\n",
    "\n",
    "In SI units, the gravitational constant $G = 6.674 \\times 10^{-11}$ N.m$^2$kg$^{-2}$ (this is very small - gravity is a very weak force!)\n",
    "\n",
    "The image below illustrates Newton's law of universal gravitation. A point mass $m_1$ attracts another point mass $m_2$ by a\n",
    "force $F_2$ pointing along the line intersecting both points. In the same way, $m_2$ attracts $m_1$ with an equal force $F_1$ pointing in the opposite direction. \n",
    "<img src='./NewtonsLawOfUniversalGravitation.svg'/>\n",
    "\n",
    "(If you can't see an image above, either download it from Moodle, or take a look at the online version here: http://commons.wikimedia.org/wiki/File:NewtonsLawOfUniversalGravitation.svg )\n",
    "\n",
    "\n",
    "Consider two masses $m_1$ and $m_2$, as shown in the figure. The gravitational force exerted on $m_1$ due to $m_2$ will be\n",
    "\n",
    "$$\n",
    "\\mathbf{F}_{12} = - G  \\frac{m_1 m_2}{r_{12}^2} \\hat{\\mathbf{r}}_{12},\n",
    "$$\n",
    "\n",
    "where $\\hat{\\mathbf{r}}_{12}$ is the position unit vector from $m_1$ to $m_2$\n",
    "\n",
    "Similarly, the force exerted on $m_2$ due to $m_1$ will be\n",
    "\n",
    "$$\\mathbf{F}_{21} = - G \\frac{m_1 m_2}{r_{21}^2} \\hat{\\mathbf{r}}_{21}$$\n",
    "\n",
    "and clearly $\\mathbf{F}_{12} = -\\mathbf{F}_{21}$: the forces are equal and opposite, as they should be according to Newton's third law.\n",
    "\n",
    "From Newton's second law, we also have $\\mathbf{F} = m\\mathbf{a}$, so therefore we can see that the accelerations experienced by $m_1$\n",
    "due to $m_2$ and vice versa will be\n",
    "\n",
    "$$\\mathbf{a}_{1} = -\\frac{G m_2}{r_{12}^2}\\hat{\\mathbf{r}}_{12}$$ \n",
    "\n",
    "$$\\mathbf{a}_{2} = - \\frac{G m_1}{r_{21}^2}\\hat{\\mathbf{r}}_{21}$$\n",
    "\n",
    "These accelerations will not be equal in magnitude unless the objects have equal masses."
   ]
  },
  {
   "cell_type": "markdown",
   "metadata": {},
   "source": [
    "### Converting Newton's laws to a numerical model\n",
    "Let's consider a system with two objects: a \"star\" with mass $M$ and a \"planet\" with mass $m$. Under normal circumstances clearly $M \\gg m$ and so the acceleration experienced by the star due to the planet will be small compared to the acceleration experienced by the planet due to the star. To keep things simple, we will assume the acceleration on the star due to the planet is small enough that we can neglect it, and put the star in a fixed position at the origin of our co-ordinate system. The gravitational force on the planet due to the star is then\n",
    "\n",
    "$$\\mathbf{F}_{mM} = -G M m \\frac{\\mathbf{r}}{|\\mathbf{r}|^3}$$\n",
    "\n",
    "where we've replaced the unit vector $\\hat{\\mathbf{r}}$ with $\\mathbf{r}/|r|$.\n",
    "\n",
    "We can work out the motion of the planet straight from this, just by using the laws of motion:\n",
    "\n",
    "\n",
    "\n",
    "\n",
    "\n",
    "$$  \\quad = m \\mathbf{a} = m \\frac{d \\mathbf{v}}{d t} = m  \\frac{d^2 \\mathbf{r}}{d t^2}$$\n",
    "\n",
    "In order to consider the motion of the planet around the star, we need to take the initial position and velocity of the planet as the\n",
    "starting positions, so we need to integrate in order to calculate the force. There are several ways of numerical integration\n",
    "you will learn about, but here we are just going to use the simplest, most naive method and convert\n",
    "the differentials to small finite differences (as you will\n",
    "learn later, this is definitely not the \"best\" way to do this!)\n",
    "\n",
    "We therefore rewrite the force as\n",
    "$$\\mathbf{F}_{mM} = m \\frac{d \\mathbf{v}}{d t} \\approx \n",
    "m\\frac{\\delta \\mathbf{v}}{\\delta t}$$\n",
    "\n",
    "and then rearrange this to give the change in velocity of the planet in the time $\\delta t$ as\n",
    "\n",
    "$$\\delta\\mathbf{v} = \\frac{\\mathbf{F}_{Mm}}{m} \\delta t = -G M\n",
    "\\frac{\\mathbf{r}}{|\\mathbf{r}|^3} \\delta t$$\n",
    "\n",
    "where $\\delta \\mathbf{v}$ and $\\delta t$ are very small finite quantities. We can define $\\delta t$ (usually known as the timestep) in our code as a parameter.\n",
    "\n",
    "Similarly, we can write the change in the planet's position over the same $\\delta t$ as\n",
    "$$\\delta \\mathbf{r} = \\mathbf{v} \\delta t$$\n",
    "\n",
    "Given our starting point of the initial position and velocity of the planet, and a fixed timestep $\\delta t$, we can calculate how $\\mathbf{r}$ and $\\mathbf{v}$ change:\n",
    "\n",
    "$$\\mathbf{r}(t + \\delta t)  = \\mathbf{r}(t) + \\delta \\mathbf{r} $$\n",
    "\n",
    "$$ \\qquad  \\qquad = \\mathbf{r}(t) + \\mathbf{v} \\delta t $$\n",
    "\n",
    "$$ \\mathbf{v}(t + \\delta t)  = \\mathbf{v}(t) + \\delta \\mathbf{v} $$\n",
    "\n",
    "$$  \\qquad \\qquad = \\mathbf{v}(t) - \\frac{GM \\mathbf{r}}{|\\mathbf{r|^3}} \\delta t$$\n",
    "\n",
    "\n",
    "Our outline algorithm will then look like this:\n",
    "\n",
    "1. Input initial velocity, position and timestep\n",
    "2. Calculate the change in velocity $\\mathbf{v} \\leftarrow \\mathbf{v} - \\frac{GM \\mathbf{r}}{|\\mathbf{r|^3}} \\delta t$\n",
    "3. Calculate the change in position: $\\mathbf{r} \\leftarrow \\mathbf{r} + \\mathbf{v} \\delta t $\n",
    "4. Repeat steps 2-3 ad libitum"
   ]
  },
  {
   "cell_type": "markdown",
   "metadata": {},
   "source": [
    "## What to do:\n",
    "\n",
    "\n",
    "Copy and paste the code template below into Spyder, and complete the code by implementing the algorithm above.\n",
    "\n",
    "### New commands:\n",
    "\n",
    "Note these new vpython commands that appear in the code template:\n",
    "* <tt>vector</tt> : a vpython-specific command for a three-dimensional cartesian vector\n",
    "* <tt> mag </tt> : finds the magnitude of a vector\n",
    "* Documentation on these commands and more is at: http://www.vpython.org/contents/docs/vector.html"
   ]
  },
  {
   "cell_type": "markdown",
   "metadata": {},
   "source": [
    "### Things to bear in mind:\n",
    "\n",
    "* It is easier not to use realistic values for the physical quantities. This is why we've chosen units where G = 1, and we've chosen an arbitrary 1000:1 mass ratio for the star and the planet. If you want, when you have everything working right, you can try putting in \"real\" values for everything if you want, but it's actually easier to explore the physics of the model with these simpler values.\n",
    "\n",
    "* I've suggested initial positions and velocities that will give a stable orbit if you choose a suitable timestep. You will need to experiment to see what works. \n",
    "\n",
    "* When you've found a good timestep, vary the initial positions and velocities, and choose an interesting set of initial conditions for your uploaded code.\n",
    "\n",
    "* It is possible to do all this in 30-40 lines of code (including comments etc). If your code ends up much longer than this, you're probably overcomplicating things.\n",
    "\n",
    "**_CHALLENGE:_** *(As last week, optional, but with a small amount of credit)* Try adding a second planet or a moon."
   ]
  },
  {
   "cell_type": "code",
   "execution_count": null,
   "metadata": {
    "collapsed": false
   },
   "outputs": [],
   "source": [
    "##################################################\n",
    "#    PHAS1240 Session 9                          #\n",
    "#    Code template                               #\n",
    "##################################################\n",
    "\n",
    "from visual import sphere, vector, color, rate, mag\n",
    "\n",
    "dt = 0.01 # timestep\n",
    "step = 1 # loop counter\n",
    "maxstep = 2000 # maximum number of steps\n",
    "\n",
    "#  Define the star, planets and constants\n",
    "M = 1000 # mass of star (in units where G = 1)\n",
    "mass = 1 # mass of planet\n",
    "initpos = vector(0,1,0) # initial position vector of Planet\n",
    "Planet = sphere(pos=initpos,radius=0.05*mass,color=color.blue,make_trail=True)\n",
    "Planet.trail_object.color=color.white # make the trail white\n",
    "Star = sphere(pos=(0,0,0),radius=0.1,color=color.yellow)\n",
    "vel = vector(-25, 0, 0) # initial velocity of planet 1\n",
    "\n",
    "while step <= maxstep:\n",
    "\n",
    "   ### YOUR CODE HERE ###\n",
    "\n",
    "print(\"end of program\")"
   ]
  },
  {
   "cell_type": "code",
   "execution_count": null,
   "metadata": {
    "collapsed": false
   },
   "outputs": [],
   "source": []
  }
 ],
 "metadata": {
  "kernelspec": {
   "display_name": "Python 2",
   "language": "python",
   "name": "python2"
  },
  "language_info": {
   "codemirror_mode": {
    "name": "ipython",
    "version": 2
   },
   "file_extension": ".py",
   "mimetype": "text/x-python",
   "name": "python",
   "nbconvert_exporter": "python",
   "pygments_lexer": "ipython2",
   "version": "2.7.10"
  }
 },
 "nbformat": 4,
 "nbformat_minor": 0
}
