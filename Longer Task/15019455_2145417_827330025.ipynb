{
 "cells": [
  {
   "cell_type": "markdown",
   "metadata": {},
   "source": [
    "#Longer computing task\n",
    "####Student ID : 15019455\n",
    "####Last updated : 19/11/2015"
   ]
  },
  {
   "cell_type": "markdown",
   "metadata": {},
   "source": [
    "##Introduction"
   ]
  },
  {
   "cell_type": "markdown",
   "metadata": {},
   "source": [
    "In this experiment a cathode ray tube was used to accelerate a beam of electron through a voltage $V$. The electron beam was then bent into a circular path with radius $r$. The radius of the beam was measured by two students by using a ruler.\n",
    "However for two of the measurements one student making measurements was distracted by a Seagull flying past the window and so a larger uncertainty was given to these two measurements. For this reason I am calculating weighted and unweighted values for $\\frac{e}{m}$."
   ]
  },
  {
   "cell_type": "markdown",
   "metadata": {},
   "source": [
    "In this notebook I am going to calculate values for the charge of an electron divided by its mass, $\\frac{e}{m}$, from the gradients of my weighted and unweighted graphs produced by the two students' results."
   ]
  },
  {
   "cell_type": "markdown",
   "metadata": {},
   "source": [
    "These equations for energy in $eV$ of an electron, circular motion and the force on the electrons in a magnetic field will be used:\n",
    "\n",
    "$$ \\frac{1}{2}mV^2 = eV $$\n",
    "\n",
    "$$ F_r = evB = \\frac{mv^2}{r} $$\n"
   ]
  },
  {
   "cell_type": "markdown",
   "metadata": {},
   "source": [
    "By using these two equations we can form a linear relationship between $ \\sqrt{V} $ and $ r $. By using the following equation:\n",
    "\n",
    "$$ r = \\sqrt{\\frac{2m}{B^2e}}\\sqrt{V} $$\n",
    "\n",
    "By using this equation we can plot $ r $ against $ \\sqrt{V} $. This should give a straight line graph and the gradient of the graph would be equal to $ \\sqrt{\\frac{2m}{B^2e}} $."
   ]
  },
  {
   "cell_type": "markdown",
   "metadata": {},
   "source": [
    "We can rearrange this to give the following equation which will be used to determine the values for $\\frac{e}{m}$ ('$g$' is the slope of either graph):\n",
    "\n",
    "$$ \\frac{e}{m} = \\frac{2}{g^2B^2} $$"
   ]
  },
  {
   "cell_type": "code",
   "execution_count": 1,
   "metadata": {
    "collapsed": false
   },
   "outputs": [],
   "source": [
    "import numpy as np\n",
    "#I have imported numpy so that its functions can be used\n",
    "\n",
    "import matplotlib.pyplot as plt\n",
    "#I have imported matplotlib so that I can use this module to plot graphs\n",
    "\n",
    "%matplotlib inline\n",
    "#I have used this command to tell matplotlib to plot the graphs in line with the notebook\n",
    "\n",
    "from IPython.display import display, Math, Latex"
   ]
  },
  {
   "cell_type": "markdown",
   "metadata": {},
   "source": [
    "####Data import"
   ]
  },
  {
   "cell_type": "code",
   "execution_count": 2,
   "metadata": {
    "collapsed": false
   },
   "outputs": [
    {
     "name": "stdout",
     "output_type": "stream",
     "text": [
      "[ 160.  180.  200.  220.  240.  260.  280.  300.]\n",
      "[ 0.0338  0.0358  0.0389  0.0413  0.041   0.0423  0.0438  0.045 ]\n",
      "[ 0.00169   0.00179   0.0075    0.0075    0.00205   0.002115  0.00219\n",
      "  0.00225 ]\n"
     ]
    }
   ],
   "source": [
    "Vdata, Rdata, Rerror = np.loadtxt(\"eovermdata.csv\", unpack=True, delimiter = ',') \n",
    "#I have unpacked and imported the students' data from the .csv file and have assigned values\n",
    "\n",
    "print Vdata\n",
    "print Rdata\n",
    "print Rerror\n",
    "#I have printed the arrays made from the table just for reference to calculations"
   ]
  },
  {
   "cell_type": "markdown",
   "metadata": {},
   "source": [
    "####Assigning values"
   ]
  },
  {
   "cell_type": "markdown",
   "metadata": {},
   "source": [
    "Here I have assigned values which will be used later on in the calculations for certain quantities."
   ]
  },
  {
   "cell_type": "code",
   "execution_count": 3,
   "metadata": {
    "collapsed": false
   },
   "outputs": [],
   "source": [
    "xdata = np.sqrt(Vdata)\n",
    "#x-axis data points to be used on graphs\n",
    "\n",
    "ydata = Rdata\n",
    "#y-axis data points to be used on graphs\n",
    "\n",
    "yerror = Rerror\n",
    "#Error in y points\n",
    "\n",
    "w = yerror**(-2)\n",
    "#A value which will be used in the calculation of the weighted slope and intercept and hence the corresponding value for e/m\n",
    "\n",
    "n = 8.0\n",
    "#This is the number of data points\n",
    "#This will be used in calculations\n",
    "#Printed as a float so that when used a float format result is outputted and not integer or other type\n",
    "\n",
    "mean_x = np.mean(xdata)\n",
    "mean_y = np.mean(ydata)\n",
    "#Mean values of x and y data points to be used in calculations\n",
    "\n",
    "B = 1.28 * 10**(-3)\n",
    "B_error = 0.01 * 10**(-3)\n",
    "#The value and error for the magnetic field (in Tesla) used in students' experiment"
   ]
  },
  {
   "cell_type": "markdown",
   "metadata": {},
   "source": [
    "##Graphs"
   ]
  },
  {
   "cell_type": "markdown",
   "metadata": {},
   "source": [
    "I have plotted below the unweighted, weighted and combined graphs respectively."
   ]
  },
  {
   "cell_type": "markdown",
   "metadata": {},
   "source": [
    "####Unweighted graph equations"
   ]
  },
  {
   "cell_type": "markdown",
   "metadata": {},
   "source": [
    "This is my unweighted graph. I have used the following equations."
   ]
  },
  {
   "cell_type": "markdown",
   "metadata": {},
   "source": [
    "To calculate unweighted gradient, $g_{1}$:\n",
    "\n",
    "$$ g_{1} = \\frac{\\sum(x_i - \\bar{x}) y_i}{\\sum (x_i - \\bar{x})^2} $$"
   ]
  },
  {
   "cell_type": "markdown",
   "metadata": {},
   "source": [
    "To calculate uncertainty in gradient, $\\Delta{g_{1}}$:\n",
    "\n",
    "$$ \\Delta{g_{1}} \\approx \\sqrt{\\frac{\\sum d_i^2}{(n-2)\\sum (x_i - \\bar{x})^2}} $$"
   ]
  },
  {
   "cell_type": "markdown",
   "metadata": {},
   "source": [
    "To calculate intercept, $c_{1}$:\n",
    "\n",
    "$$ c_{1} = \\bar{y} - g_{1} \\bar{x} $$"
   ]
  },
  {
   "cell_type": "markdown",
   "metadata": {},
   "source": [
    "To calculate uncertainty in intercept, $\\Delta{c_{1}}$:\n",
    "\n",
    "$$ \\Delta{c_{1}} \\approx \\sqrt{\\left(\\frac{1}{n} + \\frac{\\bar{x}^2}{\\sum (x_i - \\bar{x})^2}\\right)\\frac{\\sum d_i^2}{n-2}} $$"
   ]
  },
  {
   "cell_type": "markdown",
   "metadata": {},
   "source": [
    "####Unweighted graph"
   ]
  },
  {
   "cell_type": "code",
   "execution_count": 4,
   "metadata": {
    "collapsed": false
   },
   "outputs": [
    {
     "data": {
      "image/png": "[encoded data removed]",
      "text/plain": [
       "<matplotlib.figure.Figure at 0x3d6d390>"
      ]
     },
     "metadata": {},
     "output_type": "display_data"
    }
   ],
   "source": [
    "plt.plot(xdata, ydata, 'kx')\n",
    "#I have plotted the x and y data points and have used blue cross as markers\n",
    "\n",
    "plt.xlabel('Root of voltage $(\\sqrt{V})$')\n",
    "plt.ylabel('Radius $(m)$')\n",
    "plt.title('Electron beam path radius against root of voltage')\n",
    "plt.savefig('Unweighted plot.pdf')\n",
    "#Here I have labelled the axis and title\n",
    "\n",
    "slope = np.sum((xdata - mean_x)*ydata) / np.sum((xdata - mean_x)*xdata)\n",
    "intercept = mean_y - slope*mean_x\n",
    "slope_error = np.sqrt((np.sum((ydata - slope*xdata - intercept)**2))/(np.sum((xdata - mean_x)**2)*(n - 2)))\n",
    "intercept_error = np.sqrt(((1.0/n)+((mean_x**2)/(np.sum((xdata - mean_x)**2)))) * ((np.sum((ydata - slope*xdata - intercept)**2))/(n - 2.0)))\n",
    "#These are my calculations using the above equations\n",
    "\n",
    "plt.line, = plt.plot([12, 18], [slope*12 + intercept, slope*18 + intercept], 'r-')\n",
    "#I have plotted a least-squares fit line by using an array for two points calculated from the values above\n",
    "\n",
    "plt.text(24, 0.046, \"$Gradient \\, = \\, {0} \\, \\pm \\, {1}$\".format(slope,slope_error), size=18)\n",
    "plt.text(24, 0.042, \"$Intercept \\, = \\, {0} \\, \\pm \\, {1}$\".format(intercept,intercept_error), size=18)\n",
    "plt.text(14, 0.034, \"$y \\, = \\, {0:0.4f} x \\, + \\, {1:0.4f}$\".format(slope,intercept), size=18)\n",
    "#I have added an equation for the line in the form y=gx+c into the graph\n",
    "#I have also added the unrounded values for the gradient and intercept\n",
    "\n",
    "plt.grid()\n",
    "#I have added a grid so that it is easier to see where each point lies"
   ]
  },
  {
   "cell_type": "markdown",
   "metadata": {},
   "source": [
    "####Unweighted slope and intercept values"
   ]
  },
  {
   "cell_type": "code",
   "execution_count": 5,
   "metadata": {
    "collapsed": false
   },
   "outputs": [
    {
     "name": "stdout",
     "output_type": "stream",
     "text": [
      "Gradient = 0.00231074149446\n",
      "Gradient Uncertainty = 0.000206780294614\n",
      "Intercept = 0.00537123902537\n",
      "Intercept Uncertainty = 0.00313597843668\n"
     ]
    }
   ],
   "source": [
    "print \"Gradient =\", slope\n",
    "print \"Gradient Uncertainty =\", slope_error\n",
    "print \"Intercept =\", intercept\n",
    "print \"Intercept Uncertainty =\", intercept_error\n",
    "#These are the precise printed values for the above"
   ]
  },
  {
   "cell_type": "markdown",
   "metadata": {},
   "source": [
    "The rounded values for the above are as follows:\n",
    "\n",
    "$$ g_{1} = (0.0023 \\pm 0.0002) \\frac{m}{\\sqrt{V}} $$\n",
    "\n",
    "$$ c_{1} = (0.0054 \\pm 0.003)m $$"
   ]
  },
  {
   "cell_type": "markdown",
   "metadata": {},
   "source": [
    "####Weighted graph equations"
   ]
  },
  {
   "cell_type": "markdown",
   "metadata": {},
   "source": [
    "This is my unweighted graph. I have used the following equations."
   ]
  },
  {
   "cell_type": "markdown",
   "metadata": {},
   "source": [
    "The weight given to each point is:\n",
    "\n",
    "$$ w_{i} = \\frac{1}{(\\Delta{y_{i}})^2} $$"
   ]
  },
  {
   "cell_type": "markdown",
   "metadata": {},
   "source": [
    "To calculate weighted gradient, $g_{2}$:\n",
    "\n",
    "$$ g_{2} = \\frac{\\sum w_{i} \\sum w_{i}x_{i}y_{i} - \\sum w_{i}x_{i} \\sum w_{i}y_{i}}{\\sum w_{i} \\sum w_{i}x_{i}^2 - \\left(\\sum w_{i}x_{i}\\right)^2} $$"
   ]
  },
  {
   "cell_type": "markdown",
   "metadata": {},
   "source": [
    "To calculate weighted gradient uncertainty, $\\Delta{g_{2}}$:\n",
    "\n",
    "$$ \\Delta{g_{2}} = \\sqrt{\\frac{\\sum w_{i}}{\\sum w_{i} \\sum w_{i}x_{i}^2 - \\left(\\sum w_{i}x_{i}\\right)^2}} $$"
   ]
  },
  {
   "cell_type": "markdown",
   "metadata": {},
   "source": [
    "To calculate weighted intercept, $c_{1}$:\n",
    "\n",
    "$$ c_{1} = \\frac{\\sum w_{i}x_{i}^2 \\sum w_{i}y_{i} - \\sum w_{i}x_{i} \\sum w_{i}x_{i}y_{i}}{\\sum w_{i} \\sum w_{i}x_{i}^2 - \\left(\\sum w_{i}x_{i}\\right)^2} $$"
   ]
  },
  {
   "cell_type": "markdown",
   "metadata": {},
   "source": [
    "To calculate weighted intercept uncertainty, $\\Delta{c_{1}}$:\n",
    "\n",
    "$$ \\Delta{c_{1}} = \\sqrt{\\frac{\\sum x_{i}^2w_{i}}{\\sum w_{i} \\sum w_{i}x_{i}^2 - \\left(\\sum w_{i}x_{i}\\right)^2}} $$"
   ]
  },
  {
   "cell_type": "markdown",
   "metadata": {},
   "source": [
    "####Weighted graph"
   ]
  },
  {
   "cell_type": "code",
   "execution_count": 6,
   "metadata": {
    "collapsed": false
   },
   "outputs": [
    {
     "data": {
      "image/png": "[encoded data removed]",
      "text/plain": [
       "<matplotlib.figure.Figure at 0xa801da0>"
      ]
     },
     "metadata": {},
     "output_type": "display_data"
    }
   ],
   "source": [
    "plt.plot(xdata, ydata, 'kx')\n",
    "#I have plotted the x and y data oints and have used blue cross as markers\n",
    "\n",
    "plt.xlabel('Root of voltage $(\\sqrt{V})$')\n",
    "plt.ylabel('Radius $(m)$')\n",
    "plt.title('Electron beam path radius against root of voltage')\n",
    "plt.savefig('Weighted plot.pdf')\n",
    "#Here I have labelled the axis and title\n",
    "\n",
    "wslope = (np.sum(w)*np.sum(w*xdata*ydata)-np.sum(w*xdata)*np.sum(w*ydata))/(np.sum(w)*np.sum(w*xdata**2)-np.sum(w*xdata)**2)\n",
    "wslope_error = np.sqrt((np.sum(w))/(np.sum(w)*np.sum(w*xdata**2)-np.sum(w*xdata)**2))\n",
    "wintercept = (np.sum(w*xdata**2)*np.sum(w*ydata)-np.sum(w*xdata)*np.sum(w*xdata*ydata))/(np.sum(w)*np.sum(w*xdata**2)-np.sum(w*xdata)**2)\n",
    "wintercept_error = np.sqrt((np.sum(w*xdata**2))/(np.sum(w)*np.sum(w*xdata**2)-np.sum(w*xdata)**2))\n",
    "#These are my calculations using the above equations\n",
    "\n",
    "plt.line, = plt.plot([12, 18], [wslope*12 + wintercept, wslope*18 + wintercept], 'b-')\n",
    "#I have plotted a least-squares fit line by using an array for two points calculated from the values above\n",
    "\n",
    "plt.text(24, 0.046, \"$Gradient \\, = \\, {0} \\, \\pm \\, {1}$\".format(wslope,wslope_error), size=18)\n",
    "plt.text(24, 0.042, \"$Intercept \\, = \\, {0} \\, \\pm \\, {1}$\".format(wintercept,wintercept_error), size=18)\n",
    "plt.text(14, 0.034, \"$y \\, = \\, {0:0.4f} x \\, + \\, {1:0.4f}$\".format(wslope,wintercept), size=18)\n",
    "#I have added an equation for the line in the form y=gx+c into the graph\n",
    "#I have also added the unrounded values for the gradient and intercept\n",
    "\n",
    "plt.grid()\n",
    "#I have added a grid so that it is easier to see where each point lies"
   ]
  },
  {
   "cell_type": "markdown",
   "metadata": {},
   "source": [
    "####Weighted slope and intercept values"
   ]
  },
  {
   "cell_type": "code",
   "execution_count": 7,
   "metadata": {
    "collapsed": false
   },
   "outputs": [
    {
     "name": "stdout",
     "output_type": "stream",
     "text": [
      "Gradient = 0.00241449374517\n",
      "Gradient Uncertainty = 0.000458942980418\n",
      "Intercept = 0.00340560882875\n",
      "Intercept Uncertainty = 0.00688746634326\n"
     ]
    }
   ],
   "source": [
    "print \"Gradient =\", wslope\n",
    "print \"Gradient Uncertainty =\",wslope_error\n",
    "print \"Intercept =\", wintercept\n",
    "print \"Intercept Uncertainty =\", wintercept_error\n",
    "#These are the precise printed values for the above"
   ]
  },
  {
   "cell_type": "markdown",
   "metadata": {},
   "source": [
    "The rounded values for the above are as follows:\n",
    "\n",
    "$$ g_{2} = (0.0024 \\pm 0.0005) \\frac{m}{\\sqrt{V}} $$\n",
    "\n",
    "$$ c_{2} = (0.0034 \\pm 0.007)m $$"
   ]
  },
  {
   "cell_type": "markdown",
   "metadata": {},
   "source": [
    "####Combined graph"
   ]
  },
  {
   "cell_type": "code",
   "execution_count": 8,
   "metadata": {
    "collapsed": false
   },
   "outputs": [
    {
     "data": {
      "image/png": "[encoded data removed]",
      "text/plain": [
       "<matplotlib.figure.Figure at 0xa81d518>"
      ]
     },
     "metadata": {},
     "output_type": "display_data"
    }
   ],
   "source": [
    "plt.errorbar(xdata, ydata, yerr = yerror, fmt='kx')\n",
    "#I have plotted the original x and y data points with error bars from the students' data\n",
    "\n",
    "plt.xlabel('Root of voltage ($\\sqrt{V}$)')\n",
    "plt.ylabel('Radius $(m)$')\n",
    "plt.title('Electron beam path radius against root of voltage')\n",
    "plt.savefig('Combined plot.pdf')\n",
    "#Here I have labelled the axis and title\n",
    "#I Have also outputted the graph as pdf\n",
    "\n",
    "plt.line, = plt.plot([12, 18], [slope*12 + intercept, slope*18 + intercept], 'r-', label=\"Unweighted\")\n",
    "plt.line, = plt.plot([12, 18], [wslope*12 + wintercept, wslope*18 + wintercept], 'b-', label=\"Weighted\")\n",
    "#I have plotted both the unweighted and weighted line on this graph \n",
    "\n",
    "plt.legend(loc=\"best\")\n",
    "#I have added a legend so that both the weighted and unweighted lines can be distinguished\n",
    "\n",
    "plt.text(24, 0.045, \"$(Unweighted) \\, y \\, = \\, {0:0.4f} x \\, + \\, {1:0.4f}$\".format(slope,intercept), size=24)\n",
    "plt.text(24, 0.035, \"$(Weighted) \\, y \\, = \\, {0:0.4f} x \\, + \\, {1:0.4f}$\".format(wslope,wintercept), size=24)\n",
    "#These are the equations for both lines\n",
    "\n",
    "plt.savefig('15019455.pdf')\n",
    "#This is to save the final combined graph as a .pdf\n",
    "\n",
    "plt.grid()\n",
    "#I have added a grid so that it is easier to see where each point lies"
   ]
  },
  {
   "cell_type": "markdown",
   "metadata": {},
   "source": [
    "##Results"
   ]
  },
  {
   "cell_type": "markdown",
   "metadata": {},
   "source": [
    "The weighted and unweighted values and uncertainties for $\\frac{e}{m}$ are calculated from the following equations."
   ]
  },
  {
   "cell_type": "markdown",
   "metadata": {},
   "source": [
    "In order to calculate the desired value, $\\frac{e}{m}$, we use this equation:\n",
    "\n",
    "$$ \\frac{e}{m} = \\frac{2}{g^2B^2} $$"
   ]
  },
  {
   "cell_type": "markdown",
   "metadata": {},
   "source": [
    "And to calculate the uncertainty, $\\Delta{\\left( \\frac{e}{m} \\right)}$, I used the general equation below which only works for small uncertainties of the function $Z=Z(A,B,C...)$, this function can have many variables:\n",
    "\n",
    "$$ \\left(\\Delta{Z}\\right)^2 \\approx \\left(\\frac{\\partial Z}{\\partial A}\\right)^2\\left(\\Delta{A}\\right)^2 + \\left(\\frac{\\partial Z}{\\partial B}\\right)^2\\left(\\Delta{B}\\right)^2 + \\left(\\frac{\\partial Z}{\\partial C}\\right)^2\\left(\\Delta{C}\\right)^2...$$"
   ]
  },
  {
   "cell_type": "markdown",
   "metadata": {},
   "source": [
    "Therefore from the above equation we get:\n",
    "\n",
    "$$ \\left(\\Delta{\\left( \\frac{e}{m} \\right)}\\right)^2 \\approx \\left(\\frac{\\partial \\Delta{\\left( \\frac{e}{m} \\right)}}{\\partial g}\\right)^2\\left(\\Delta{g}\\right)^2 + \\left(\\frac{\\partial \\Delta{\\left( \\frac{e}{m} \\right)}}{\\partial B}\\right)^2\\left(\\Delta{B}\\right)^2 $$"
   ]
  },
  {
   "cell_type": "markdown",
   "metadata": {},
   "source": [
    "Which can be evaluated into a final equation which gives the uncertainty for $\\Delta{\\left( \\frac{e}{m} \\right)}$:\n",
    "\n",
    "$$ \\Delta{\\left( \\frac{e}{m} \\right)} \\approx 2\\frac{e}{m}\\sqrt{\\left(\\frac{\\Delta{g}}{g}\\right)^2 + \\left(\\frac{\\Delta{B}}{B}\\right)^2} $$"
   ]
  },
  {
   "cell_type": "markdown",
   "metadata": {},
   "source": [
    "You may also note that the value for $\\frac{e}{m}$ is given as a negative, this is because the value for $e$ is negative and $m$ is posotive."
   ]
  },
  {
   "cell_type": "markdown",
   "metadata": {},
   "source": [
    "####Unweighted $\\frac{e}{m}, \\left(\\frac{e}{m}\\right)_{1}$"
   ]
  },
  {
   "cell_type": "code",
   "execution_count": 9,
   "metadata": {
    "collapsed": false
   },
   "outputs": [
    {
     "name": "stdout",
     "output_type": "stream",
     "text": [
      "e/m = 228616372854.0\n",
      "e/m Uncertainty = 41071816983.7\n"
     ]
    }
   ],
   "source": [
    "#Unweighted\n",
    "\n",
    "eom1 = (2)/((slope * B)**2)\n",
    "eom1_error = 2.0 * eom1 * np.sqrt(((slope_error)/(slope))**2 + ((B_error)/(B))**2)\n",
    "#This is the value and uncertainty for e/m calculated by using the above stated equations\n",
    "\n",
    "print \"e/m =\", eom1\n",
    "print \"e/m Uncertainty =\", eom1_error\n",
    "#These are the precise printed values for the above"
   ]
  },
  {
   "cell_type": "markdown",
   "metadata": {},
   "source": [
    "The rounded values for the unweighted $\\frac{e}{m}$ are as follows:\n",
    "\n",
    "$$ \\left(\\frac{e}{m}\\right)_{1} = (-2.3 \\pm 0.4)\\times 10^{11} \\frac{C}{kg} $$"
   ]
  },
  {
   "cell_type": "markdown",
   "metadata": {},
   "source": [
    "####Weighted $\\frac{e}{m}, \\left(\\frac{e}{m}\\right)_{2}$"
   ]
  },
  {
   "cell_type": "code",
   "execution_count": 10,
   "metadata": {
    "collapsed": false
   },
   "outputs": [
    {
     "name": "stdout",
     "output_type": "stream",
     "text": [
      "e/m = 209390940221.0\n",
      "e/m Uncertainty = 79668575832.6\n"
     ]
    }
   ],
   "source": [
    "#Weighted\n",
    "\n",
    "eom2 = (2)/((wslope * B)**2)\n",
    "eom2_error = 2.0 * eom2 * np.sqrt(((wslope_error)/(wslope))**2 + ((B_error)/(B))**2)\n",
    "#This is the value and uncertainty for e/m calculated by using the above stated equations\n",
    "\n",
    "print \"e/m =\", eom2\n",
    "print \"e/m Uncertainty =\", eom2_error\n",
    "#These are the precise printed values for the above"
   ]
  },
  {
   "cell_type": "markdown",
   "metadata": {},
   "source": [
    "The rounded values for the weighted $\\frac{e}{m}$ are as follows:\n",
    "\n",
    "$$ \\left(\\frac{e}{m}\\right)_{2} = (-2.1 \\pm 0.8)\\times 10^{11} \\frac{C}{kg} $$"
   ]
  },
  {
   "cell_type": "markdown",
   "metadata": {},
   "source": [
    "####Accepted value for $\\frac{e}{m}, \\frac{e}{m}$"
   ]
  },
  {
   "cell_type": "markdown",
   "metadata": {},
   "source": [
    "The accepted value for $\\frac{e}{m}$ from CODATA Fundamental Constants 2014 is:\n",
    "\n",
    "$$ \\frac{e}{m} = (-1.75882002 \\pm 0.00000001)\\times 10^{11} \\frac{C}{kg} $$"
   ]
  },
  {
   "cell_type": "markdown",
   "metadata": {},
   "source": [
    "##Brief Conclusion"
   ]
  },
  {
   "cell_type": "markdown",
   "metadata": {},
   "source": [
    "The value $\\left(\\frac{e}{m}\\right)_{1}$, the unweighted $\\frac{e}{m}$, does not actually agree with the accepted value for $\\frac{e}{m}$ because its range (uncertainty) does not include the accepted value of $\\frac{e}{m}$.\n",
    "However the value for $\\left(\\frac{e}{m}\\right)_{2}$, the weighted $\\frac{e}{m}$, does include the accepted value of $\\frac{e}{m}$ in its range.\n",
    "And so we can assume the weighted $\\frac{e}{m}$ to be accurate while the unweighted $\\frac{e}{m}$ is not assumed accurate, this relies on the assumption that the accepted value for $\\frac{e}{m}$ is the true value.\n",
    "\n",
    "Also from the weighted, unweighted and accepted $\\frac{e}{m}$ we can say that the accepted value has a very high precision as it is stated reliable to 8 decimal points while the weighted and unweighted values are only stated reliable to 1 decimal point.\n",
    "\n",
    "Overall if the two readings with large uncertainties (when student was distracted by the Seagull) are accounted for by using a weighted value then the students' results accord and are in the same magnitude with the accepted value."
   ]
  },
  {
   "cell_type": "code",
   "execution_count": null,
   "metadata": {
    "collapsed": true
   },
   "outputs": [],
   "source": []
  }
 ],
 "metadata": {
  "kernelspec": {
   "display_name": "Python 2",
   "language": "python",
   "name": "python2"
  },
  "language_info": {
   "codemirror_mode": {
    "name": "ipython",
    "version": 2
   },
   "file_extension": ".py",
   "mimetype": "text/x-python",
   "name": "python",
   "nbconvert_exporter": "python",
   "pygments_lexer": "ipython2",
   "version": "2.7.10"
  }
 },
 "nbformat": 4,
 "nbformat_minor": 0
}
